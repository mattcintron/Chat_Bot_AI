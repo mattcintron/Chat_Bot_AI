{
 "cells": [
  {
   "cell_type": "code",
   "execution_count": 1,
   "metadata": {},
   "outputs": [
    {
     "name": "stdout",
     "output_type": "stream",
     "text": [
      "{'tag': 'greeting', 'patterns': ['Hi', 'How are you', 'Is anyone there?', 'Hello', 'Good day', 'Whats up'], 'responses': ['Hello!'], 'context_set': ''}\n",
      "{'tag': 'goodbye', 'patterns': ['cya', 'See you later', 'Goodbye', 'I am Leaving', 'Have a Good day'], 'responses': ['Goodbye!'], 'context_set': ''}\n",
      "{'tag': 'what', 'patterns': ['what are you', 'who are you', 'what do you do', 'what is your purpose', 'what is this'], 'responses': ['I am a USCIS chat bot for handeling questions and customer service'], 'context_set': ''}\n",
      "{'tag': 'USCIS', 'patterns': ['what is USCIS', 'USCIS dose what?', 'whats USCIS do?'], 'responses': [\"U.S. Citizenship and Immigration Services is an agency of the United States Department of Homeland Security that administers the country's naturalization and immigration system\"], 'context_set': ''}\n",
      "{'tag': 'DACA', 'patterns': ['What is purpose of DACA?', 'What is deferred action?', 'What is DACA?'], 'responses': ['Under existing regulations, an individual whose case has been deferred is eligible to receive employment authorization for the period of deferred action, provided he or she can demonstrate an economic necessity for employment. DHS'], 'context_set': ''}\n",
      "{'tag': 'DACA_DETAIL', 'patterns': ['Why is DACA ending?', 'Why is DACA phasing out', 'How can I get more DACA information?', 'Frequently asked DACA questions'], 'responses': ['Taking into consideration the federal court rulings in ongoing litigation, and the September 4, 2017 letter from the Attorney General, it is clear that program should be terminated. As such, the Acting Secretary of Homeland Security rescinded the June 15, 2012 memorandum establishing the DACA program. Please see the Attorney General’s letter and the Acting Secretary of Homeland Security’s memorandum for further information on how this decision was reached.'], 'context_set': ''}\n",
      "{'tag': 'hours', 'patterns': ['when are you open', 'what are your hours', 'hours of operation', 'what is your availability'], 'responses': ['We are open 7am-4pm Monday-Friday!'], 'context_set': ''}\n"
     ]
    }
   ],
   "source": [
    "import json\n",
    "  \n",
    "# Opening JSON file\n",
    "f = open('intents.json',)\n",
    "  \n",
    "# returns JSON object as \n",
    "# a dictionary\n",
    "data = json.load(f)\n",
    "  \n",
    "# Iterating through the json\n",
    "# list\n",
    "for i in data['intents']:\n",
    "    print(i)\n",
    "  \n",
    "# Closing file\n",
    "f.close()"
   ]
  },
  {
   "cell_type": "code",
   "execution_count": 2,
   "metadata": {},
   "outputs": [
    {
     "name": "stdout",
     "output_type": "stream",
     "text": [
      "[['Hi', 'How are you', 'Is anyone there?', 'Hello', 'Good day', 'Whats up'], ['cya', 'See you later', 'Goodbye', 'I am Leaving', 'Have a Good day'], ['what are you', 'who are you', 'what do you do', 'what is your purpose', 'what is this'], ['what is USCIS', 'USCIS dose what?', 'whats USCIS do?'], ['What is purpose of DACA?', 'What is deferred action?', 'What is DACA?'], ['Why is DACA ending?', 'Why is DACA phasing out', 'How can I get more DACA information?', 'Frequently asked DACA questions'], ['when are you open', 'what are your hours', 'hours of operation', 'what is your availability']]\n",
      "\n",
      "\n",
      "['Hello!', 'Goodbye!', 'I am a USCIS chat bot for handeling questions and customer service', \"U.S. Citizenship and Immigration Services is an agency of the United States Department of Homeland Security that administers the country's naturalization and immigration system\", 'Under existing regulations, an individual whose case has been deferred is eligible to receive employment authorization for the period of deferred action, provided he or she can demonstrate an economic necessity for employment. DHS', 'Taking into consideration the federal court rulings in ongoing litigation, and the September 4, 2017 letter from the Attorney General, it is clear that program should be terminated. As such, the Acting Secretary of Homeland Security rescinded the June 15, 2012 memorandum establishing the DACA program. Please see the Attorney General’s letter and the Acting Secretary of Homeland Security’s memorandum for further information on how this decision was reached.', 'We are open 7am-4pm Monday-Friday!']\n"
     ]
    }
   ],
   "source": [
    "questions =[]\n",
    "answers = []\n",
    "\n",
    "for i in data['intents']:\n",
    "    questions.append(i['patterns'])\n",
    "    answers.append(i['responses'][0])\n",
    "    \n",
    "print(questions)\n",
    "print('')\n",
    "print('')\n",
    "print(answers)"
   ]
  },
  {
   "cell_type": "code",
   "execution_count": 3,
   "metadata": {},
   "outputs": [
    {
     "name": "stdout",
     "output_type": "stream",
     "text": [
      "parrot loaded ready to work\n"
     ]
    }
   ],
   "source": [
    "# set up parrot to do parra phrases \n",
    "# Import libraries\n",
    "from parrot import Parrot\n",
    "import torch\n",
    "import warnings\n",
    "warnings.filterwarnings(\"ignore\")\n",
    "print('parrot loaded ready to work')\n"
   ]
  },
  {
   "cell_type": "code",
   "execution_count": 4,
   "metadata": {},
   "outputs": [],
   "source": [
    "##Init models (make sure you init ONLY once if you integrate this to your code)\n",
    "parrot = Parrot(model_tag=\"prithivida/parrot_paraphraser_on_T5\", use_gpu=False)"
   ]
  },
  {
   "cell_type": "code",
   "execution_count": 12,
   "metadata": {},
   "outputs": [
    {
     "name": "stdout",
     "output_type": "stream",
     "text": [
      "['tell me the best papaya?', 'list some of the best papayas?', 'which is the best papaya?', \"what's the best papaya?\", 'which are the best papayas?', 'recommend some of the most delicious papayas?']\n"
     ]
    }
   ],
   "source": [
    "#build compresed method \n",
    "def get_para(phrase, num, length):\n",
    "    texts = []\n",
    "    para_phrases = parrot.augment(input_phrase=phrase, use_gpu=False, diversity_ranker='levenshtein', do_diverse=False,\n",
    "                                max_return_phrases=num, max_length=length, adequacy_threshold=0.9, fluency_threshold=0.9)\n",
    "    for para_phrase in para_phrases:\n",
    "        text = para_phrase[0]\n",
    "        texts.append(text)\n",
    "    \n",
    "    return texts\n",
    "        \n",
    "\n",
    "text = 'Whats the most delicious papayas?'\n",
    "texts = get_para(text, 10, len(text)+5)\n",
    "print(texts)"
   ]
  },
  {
   "cell_type": "code",
   "execution_count": 18,
   "metadata": {},
   "outputs": [
    {
     "data": {
      "text/plain": [
       "'Sorry i do not understand please ask again'"
      ]
     },
     "execution_count": 18,
     "metadata": {},
     "output_type": "execute_result"
    }
   ],
   "source": [
    "# build logic model to evalutae what is the question versus the answer\n",
    "def text_count(s0, s1):\n",
    "    s0 = s0.lower()\n",
    "    s1 = s1.lower()\n",
    "    s0List = s0.split(\" \")\n",
    "    s1List = s1.split(\" \")\n",
    "    return len(list(set(s0List)&set(s1List)))\n",
    "\n",
    "#test method\n",
    "#text_count('this dog is nice', 'this dog is bad')\n",
    "\n",
    "def logic_model(text):\n",
    "    index =0\n",
    "    count =0\n",
    "    target = -1\n",
    "    for x in questions:\n",
    "        for y in x:\n",
    "            countz = text_count(text.lower(), y.lower())\n",
    "            if(countz > count):\n",
    "                count = countz\n",
    "                target = index\n",
    "        index +=1\n",
    "    \n",
    "    if(target >-1):\n",
    "        return answers[target]\n",
    "    else:\n",
    "        return 'Sorry i do not understand please ask again'\n",
    "\n",
    "\n",
    "logic_model('Hello')\n",
    "        "
   ]
  },
  {
   "cell_type": "code",
   "execution_count": 13,
   "metadata": {},
   "outputs": [
    {
     "name": "stdout",
     "output_type": "stream",
     "text": [
      "['Hi', 'Hi']\n",
      "['how are you?', 'How are you']\n",
      "[\"whats your idea about who's there?\", 'are they around yet?', 'is there anyone here?', 'is there anyone there?', 'is anyone there?', 'Is anyone there?']\n",
      "['Hello', 'Hello']\n",
      "['greetings', 'good day', 'Good day']\n",
      "['what do you think about that', 'what happened?', \"what's going on?\", 'what the hell', \"what's up?\", \"what's up\", 'Whats up']\n",
      "[0, 0, 0, 0, 0, 0, 0, 0, 0, 0, 0, 0, 1, 0, 0, 1, 1, 1, 1, 1, 0, 0]\n",
      "['cya', 'cya']\n",
      "['see you later', \"we'll see you later\", 'See you later']\n",
      "['good bye', 'goodbye', \"let's say goodbye\", 'say goodbye', 'Goodbye']\n",
      "[\"i'll leave here\", \"i'm leaving\", 'I am Leaving']\n",
      "['have a good day', 'Have a Good day']\n",
      "[0, 0, 0, 0, 0, 0, 0, 0, 0, 0, 0, 0, 1, 0, 0, 1, 1, 1, 1, 1, 0, 0, 0, 0, 0, 0, 0, 1, 0, 0, 0, 0, 1, 0, 0, 0, 0]\n",
      "[\"what're you doing?\", 'what are you doing?', 'what do you do?', 'what are you doing', 'what is it about you?', 'what are you?', 'what are you']\n",
      "['who are you?', 'who are you']\n",
      "[\"what you're going to do?\", 'what are you doing?', 'what will you do?', 'what you do?', 'what would you do?', 'what do you do?', 'what do you do']\n",
      "['what are you after?', \"what's your goal?\", 'tell me your purpose?', \"what's your purpose?\", 'what is your purpose?', 'what is your purpose']\n",
      "['what does this mean?', \"what's it?\", 'what exactly is that?', 'what the hell is that?', \"what's this?\", 'what is this?', 'what is this']\n",
      "[0, 0, 0, 0, 0, 0, 0, 0, 0, 0, 0, 0, 1, 0, 0, 1, 1, 1, 1, 1, 0, 0, 0, 0, 0, 0, 0, 1, 0, 0, 0, 0, 1, 0, 0, 0, 0, 1, 0, 0, 0, 0, 0, 0, 0, 0, 0, 0, 0, 0, 0, 0, 0, 0, 0, 0, 0, 0, 0, 0, 1, 0, 0, 1, 0, 0]\n",
      "['what is the uscis?', \"what's uscis?\", 'what is uscis?', 'what is USCIS']\n",
      "['what are the uscis officials trying to prove?', 'what do you think of uscis?', 'which is the dose of uscis?', 'what uscis is doing?', 'what does uscis do?', 'what dose uscis do?', 'uscis does what?', 'USCIS dose what?']\n",
      "['what exactly do you think uscis is doing?', 'what is uscis supposed to do?', 'what exactly does the uscis do?', 'what is uscis doing?', 'what does the uscis do?', 'what does uscis do?', 'whats USCIS do?']\n",
      "[0, 0, 0, 0, 0, 0, 0, 0, 0, 0, 0, 0, 1, 0, 0, 1, 1, 1, 1, 1, 0, 0, 0, 0, 0, 0, 0, 1, 0, 0, 0, 0, 1, 0, 0, 0, 0, 1, 0, 0, 0, 0, 0, 0, 0, 0, 0, 0, 0, 0, 0, 0, 0, 0, 0, 0, 0, 0, 0, 0, 1, 0, 0, 1, 0, 0, 1, 1, 1, 0, 1, 1, 1, 0, 0, 0, 0, 0, 1, 0, 0, 0, 0, 0, 0]\n",
      "['what is daca? what are its benefits?', 'what does the daca program mean?', \"what does daca's purpose mean?\", 'tell me the purpose of daca?', 'What is purpose of DACA?']\n",
      "['what is a delay action?', 'tell me the meaning of deferred action?', 'what is delayed action?', 'tell me the term deferred action?', 'what is a deferred action?', 'what is deferred action?', 'What is deferred action?']\n",
      "['tell me the daca program?', 'tell me the meaning of daca?', 'what does daca mean?', 'tell me the impact of daca?', 'what is daca?', 'What is DACA?']\n",
      "[0, 0, 0, 0, 0, 0, 0, 0, 0, 0, 0, 0, 1, 0, 0, 1, 1, 1, 1, 1, 0, 0, 0, 0, 0, 0, 0, 1, 0, 0, 0, 0, 1, 0, 0, 0, 0, 1, 0, 0, 0, 0, 0, 0, 0, 0, 0, 0, 0, 0, 0, 0, 0, 0, 0, 0, 0, 0, 0, 0, 1, 0, 0, 1, 0, 0, 1, 1, 1, 0, 1, 1, 1, 0, 0, 0, 0, 0, 1, 0, 0, 0, 0, 0, 0, 0, 1, 1, 0, 0, 0, 0, 0, 0, 0, 0, 0, 1, 0, 1, 0, 0, 0]\n",
      "['do you think daca is going to die?', 'does daca have an end date?', 'why did the daca expire?', 'how did daca end?', 'why is daca leaving?', 'Why is DACA ending?']\n",
      "['why does daca go away?', 'why is the daca phasing out?', 'why is daca phasing out?', 'Why is DACA phasing out']\n",
      "['how can i find out if i qualify for daca?', 'what should i do to get more information about daca?', 'can i get more details about daca?', 'how can i learn more about daca?', 'how can i know more information on daca?', 'how can i get more information about daca?', \"what's the best way to get daca information?\", 'how can i get access to daca information?', 'how do i get more daca information?', 'How can I get more DACA information?']\n",
      "['a list of commonly asked daca questions', 'Frequently asked DACA questions']\n",
      "[0, 0, 0, 0, 0, 0, 0, 0, 0, 0, 0, 0, 1, 0, 0, 1, 1, 1, 1, 1, 0, 0, 0, 0, 0, 0, 0, 1, 0, 0, 0, 0, 1, 0, 0, 0, 0, 1, 0, 0, 0, 0, 0, 0, 0, 0, 0, 0, 0, 0, 0, 0, 0, 0, 0, 0, 0, 0, 0, 0, 1, 0, 0, 1, 0, 0, 1, 1, 1, 0, 1, 1, 1, 0, 0, 0, 0, 0, 1, 0, 0, 0, 0, 0, 0, 0, 1, 1, 0, 0, 0, 0, 0, 0, 0, 0, 0, 1, 0, 1, 0, 0, 0, 1, 1, 0, 0, 0, 0, 0, 0, 0, 0, 0, 0, 0, 0, 0, 0, 0, 0, 0, 0, 0, 0]\n",
      "['when you open the door', \"when're you ready?\", 'when do you open?', 'when are you open?', 'when are you open']\n",
      "['what are your hours of operation?', \"what's your time?\", \"what's your work hours?\", \"what's your hours?\", 'what are your hours?', 'what are your hours']\n",
      "['hours of operation', 'hours of operation']\n",
      "['can you list the available places?', 'what are you available for?', 'how much are you available?', 'what is your availability']\n",
      "[0, 0, 0, 0, 0, 0, 0, 0, 0, 0, 0, 0, 1, 0, 0, 1, 1, 1, 1, 1, 0, 0, 0, 0, 0, 0, 0, 1, 0, 0, 0, 0, 1, 0, 0, 0, 0, 1, 0, 0, 0, 0, 0, 0, 0, 0, 0, 0, 0, 0, 0, 0, 0, 0, 0, 0, 0, 0, 0, 0, 1, 0, 0, 1, 0, 0, 1, 1, 1, 0, 1, 1, 1, 0, 0, 0, 0, 0, 1, 0, 0, 0, 0, 0, 0, 0, 1, 1, 0, 0, 0, 0, 0, 0, 0, 0, 0, 1, 0, 1, 0, 0, 0, 1, 1, 0, 0, 0, 0, 0, 0, 0, 0, 0, 0, 0, 0, 0, 0, 0, 0, 0, 0, 0, 0, 0, 1, 1, 0, 0, 0, 1, 1, 1, 0, 0, 0, 0, 1, 1, 1, 0]\n",
      "\n",
      "these are the final results\n",
      "[0, 0, 0, 0, 0, 0, 0, 0, 0, 0, 0, 0, 1, 0, 0, 1, 1, 1, 1, 1, 0, 0, 0, 0, 0, 0, 0, 1, 0, 0, 0, 0, 1, 0, 0, 0, 0, 1, 0, 0, 0, 0, 0, 0, 0, 0, 0, 0, 0, 0, 0, 0, 0, 0, 0, 0, 0, 0, 0, 0, 1, 0, 0, 1, 0, 0, 1, 1, 1, 0, 1, 1, 1, 0, 0, 0, 0, 0, 1, 0, 0, 0, 0, 0, 0, 0, 1, 1, 0, 0, 0, 0, 0, 0, 0, 0, 0, 1, 0, 1, 0, 0, 0, 1, 1, 0, 0, 0, 0, 0, 0, 0, 0, 0, 0, 0, 0, 0, 0, 0, 0, 0, 0, 0, 0, 0, 1, 1, 0, 0, 0, 1, 1, 1, 0, 0, 0, 0, 1, 1, 1, 0]\n"
     ]
    }
   ],
   "source": [
    "# now run all intents and make 0 succsess 1 fail\n",
    "results = []\n",
    "\n",
    "index =0\n",
    "for x in questions:\n",
    "    answer = answers[index]\n",
    "    for i in x:\n",
    "        texts = get_para(i, 10, len(text)+5)\n",
    "        texts.append(i)\n",
    "        print(texts)\n",
    "        for text in texts:\n",
    "            res = logic_model(text)\n",
    "            #print('AI :', res)\n",
    "            #print('answer :', answer)\n",
    "            if(answer == res):\n",
    "                results.append(0)\n",
    "            else:\n",
    "                results.append(1)\n",
    "    index +=1\n",
    "    print(results)\n",
    "\n",
    "print('')\n",
    "print('these are the final results')\n",
    "print(results)"
   ]
  },
  {
   "cell_type": "markdown",
   "metadata": {},
   "source": [
    "## Save the data to CSV\n",
    "\n",
    "now we take the results and save them to a csv format \n",
    "\n"
   ]
  },
  {
   "cell_type": "code",
   "execution_count": 14,
   "metadata": {},
   "outputs": [
    {
     "name": "stdout",
     "output_type": "stream",
     "text": [
      "done all data writen to csv\n"
     ]
    }
   ],
   "source": [
    "import csv\n",
    "\n",
    "header = ['index', 'pred', 'expected']\n",
    "data = []\n",
    "\n",
    "index = 0\n",
    "for x in results:\n",
    "    item = [index,x,0]\n",
    "    data.append(item)\n",
    "    index +=1\n",
    "    \n",
    "    \n",
    "\n",
    "with open('csv data/baseline_data.csv', 'w', encoding='UTF8', newline='') as f:\n",
    "    writer = csv.writer(f)\n",
    "\n",
    "    # write the header\n",
    "    writer.writerow(header)\n",
    "\n",
    "    # write multiple rows\n",
    "    writer.writerows(data)\n",
    "\n",
    "print('done all data writen to csv')"
   ]
  },
  {
   "cell_type": "code",
   "execution_count": null,
   "metadata": {},
   "outputs": [],
   "source": []
  }
 ],
 "metadata": {
  "colab": {
   "name": "ChatBot_101.ipynb",
   "provenance": []
  },
  "kernelspec": {
   "display_name": "Python 3",
   "language": "python",
   "name": "python3"
  },
  "language_info": {
   "codemirror_mode": {
    "name": "ipython",
    "version": 3
   },
   "file_extension": ".py",
   "mimetype": "text/x-python",
   "name": "python",
   "nbconvert_exporter": "python",
   "pygments_lexer": "ipython3",
   "version": "3.7.6"
  }
 },
 "nbformat": 4,
 "nbformat_minor": 1
}
