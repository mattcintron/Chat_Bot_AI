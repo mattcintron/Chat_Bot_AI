{
  "nbformat": 4,
  "nbformat_minor": 0,
  "metadata": {
    "colab": {
      "name": "ChatBot_With_Seq2Seq.ipynb",
      "provenance": [],
      "collapsed_sections": [
        "XtzUnWKg94KU"
      ]
    },
    "kernelspec": {
      "name": "python3",
      "display_name": "Python 3"
    },
    "language_info": {
      "name": "python"
    },
    "accelerator": "GPU"
  },
  "cells": [
    {
      "cell_type": "markdown",
      "metadata": {
        "id": "jDO91og480go"
      },
      "source": [
        "#Chatbot using Seq2Seq LSTM models\n",
        "\n",
        "code reference - \n",
        "https://medium.com/predict/creating-a-chatbot-from-scratch-using-keras-and-tensorflow-59e8fc76be79 \n",
        "\n",
        "In this notebook, we will assemble a seq2seq LSTM model using Keras Functional API to create a working Chatbot which would answer questions asked to it.\n",
        "\n",
        "Chatbots have become applications themselves. You can choose the field or stream and gather data regarding various questions. We can build a chatbot for an e-commerce webiste or a school website where parents could get information about the school.\n",
        "\n",
        "Messaging platforms like Allo have implemented chatbot services to engage users. The famous Google Assistant, Siri, Cortana and Alexa may have been build using simialr models.\n",
        "\n",
        "So, let's start building our Chatbot."
      ]
    },
    {
      "cell_type": "markdown",
      "metadata": {
        "id": "XtzUnWKg94KU"
      },
      "source": [
        "## 1) Importing the packages\n",
        "We will import TensorFlow and our beloved Keras. Also, we import other modules which help in defining model layers."
      ]
    },
    {
      "cell_type": "code",
      "metadata": {
        "colab": {
          "base_uri": "https://localhost:8080/"
        },
        "id": "2rJHu81V7LWH",
        "outputId": "23367109-4f4f-4e48-9ebc-c7d6ef25630f"
      },
      "source": [
        "import numpy as np\n",
        "import tensorflow as tf\n",
        "import pickle\n",
        "from tensorflow.keras import layers , activations , models , preprocessing\n",
        "print('done')"
      ],
      "execution_count": null,
      "outputs": [
        {
          "output_type": "stream",
          "text": [
            "done\n"
          ],
          "name": "stdout"
        }
      ]
    },
    {
      "cell_type": "markdown",
      "metadata": {
        "id": "5VT81PZG-cEr"
      },
      "source": [
        "#Preprocessing the data\n",
        "A) Download the data\n",
        "The dataset hails from chatterbot/english on Kaggle.com by kausr25.\n",
        "\n",
        "https://www.kaggle.com/kausr25/chatterbotenglish \n",
        "\n",
        " It contains pairs of questions and answers based on a number of subjects like food, history, AI etc.\n",
        "\n",
        "The raw data could be found from this repo -> https://github.com/shubham0204/Dataset_Archives"
      ]
    },
    {
      "cell_type": "code",
      "metadata": {
        "colab": {
          "base_uri": "https://localhost:8080/"
        },
        "id": "nNvW49_z-Juq",
        "outputId": "81f4fd68-97d6-4953-b03d-cf1cc9ff9b87"
      },
      "source": [
        "!wget https://github.com/shubham0204/Dataset_Archives/blob/master/chatbot_nlp.zip?raw=true -O chatbot_nlp.zip\n",
        "!unzip chatbot_nlp.zip"
      ],
      "execution_count": null,
      "outputs": [
        {
          "output_type": "stream",
          "text": [
            "--2021-08-15 23:24:06--  https://github.com/shubham0204/Dataset_Archives/blob/master/chatbot_nlp.zip?raw=true\n",
            "Resolving github.com (github.com)... 140.82.113.3\n",
            "Connecting to github.com (github.com)|140.82.113.3|:443... connected.\n",
            "HTTP request sent, awaiting response... 302 Found\n",
            "Location: https://github.com/shubham0204/Dataset_Archives/raw/master/chatbot_nlp.zip [following]\n",
            "--2021-08-15 23:24:06--  https://github.com/shubham0204/Dataset_Archives/raw/master/chatbot_nlp.zip\n",
            "Reusing existing connection to github.com:443.\n",
            "HTTP request sent, awaiting response... 302 Found\n",
            "Location: https://raw.githubusercontent.com/shubham0204/Dataset_Archives/master/chatbot_nlp.zip [following]\n",
            "--2021-08-15 23:24:06--  https://raw.githubusercontent.com/shubham0204/Dataset_Archives/master/chatbot_nlp.zip\n",
            "Resolving raw.githubusercontent.com (raw.githubusercontent.com)... 185.199.108.133, 185.199.109.133, 185.199.110.133, ...\n",
            "Connecting to raw.githubusercontent.com (raw.githubusercontent.com)|185.199.108.133|:443... connected.\n",
            "HTTP request sent, awaiting response... 200 OK\n",
            "Length: 24292 (24K) [application/zip]\n",
            "Saving to: ‘chatbot_nlp.zip’\n",
            "\n",
            "chatbot_nlp.zip     100%[===================>]  23.72K  --.-KB/s    in 0s      \n",
            "\n",
            "2021-08-15 23:24:06 (53.3 MB/s) - ‘chatbot_nlp.zip’ saved [24292/24292]\n",
            "\n",
            "Archive:  chatbot_nlp.zip\n",
            "   creating: chatbot_nlp/\n",
            "   creating: chatbot_nlp/data/\n",
            "  inflating: chatbot_nlp/data/ai.yml  \n",
            "  inflating: chatbot_nlp/data/botprofile.yml  \n",
            "  inflating: chatbot_nlp/data/computers.yml  \n",
            "  inflating: chatbot_nlp/data/emotion.yml  \n",
            "  inflating: chatbot_nlp/data/food.yml  \n",
            "  inflating: chatbot_nlp/data/gossip.yml  \n",
            "  inflating: chatbot_nlp/data/greetings.yml  \n",
            "  inflating: chatbot_nlp/data/health.yml  \n",
            "  inflating: chatbot_nlp/data/history.yml  \n",
            "  inflating: chatbot_nlp/data/humor.yml  \n",
            "  inflating: chatbot_nlp/data/literature.yml  \n",
            "  inflating: chatbot_nlp/data/money.yml  \n",
            "  inflating: chatbot_nlp/data/movies.yml  \n",
            "  inflating: chatbot_nlp/data/politics.yml  \n",
            "  inflating: chatbot_nlp/data/psychology.yml  \n",
            "  inflating: chatbot_nlp/data/science.yml  \n",
            "  inflating: chatbot_nlp/data/sports.yml  \n",
            "  inflating: chatbot_nlp/data/trivia.yml  \n"
          ],
          "name": "stdout"
        }
      ]
    },
    {
      "cell_type": "markdown",
      "metadata": {
        "id": "GuZoI1Wo_fQo"
      },
      "source": [
        "##B) Reading the data from the files\n",
        "We parse each of the .yaml files.\n",
        "\n",
        "Concatenate two or more sentences if the answer has two or more of them.\n",
        "Remove unwanted data types which are produced while parsing the data.\n",
        "Append <START> and <END> to all the answers.\n",
        "Create a Tokenizer and load the whole vocabulary ( questions + answers ) into it."
      ]
    },
    {
      "cell_type": "code",
      "metadata": {
        "colab": {
          "base_uri": "https://localhost:8080/"
        },
        "id": "Aw1PnZeH-50p",
        "outputId": "4bbc4e4b-8c6d-4758-9914-b07577a4cb3b"
      },
      "source": [
        "from tensorflow.keras import preprocessing , utils\n",
        "import os\n",
        "import yaml\n",
        "\n",
        "dir_path = 'chatbot_nlp/data'\n",
        "files_list = os.listdir(dir_path + os.sep)\n",
        "\n",
        "questions = list()\n",
        "answers = list()\n",
        "\n",
        "for filepath in files_list:\n",
        "    stream = open( dir_path + os.sep + filepath , 'rb')\n",
        "    docs = yaml.safe_load(stream)\n",
        "    conversations = docs['conversations']\n",
        "    for con in conversations:\n",
        "        if len( con ) > 2 :\n",
        "            questions.append(con[0])\n",
        "            replies = con[ 1 : ]\n",
        "            ans = ''\n",
        "            for rep in replies:\n",
        "                ans += ' ' + rep\n",
        "            answers.append( ans )\n",
        "        elif len( con )> 1:\n",
        "            questions.append(con[0])\n",
        "            answers.append(con[1])\n",
        "\n",
        "\n",
        "answers_with_tags = list()\n",
        "for i in range( len( answers ) ):\n",
        "    if type( answers[i] ) == str:\n",
        "        answers_with_tags.append( answers[i] )\n",
        "    else:\n",
        "        questions.pop( i )\n",
        "\n",
        "\n",
        "answers = list()\n",
        "for i in range( len( answers_with_tags ) ) :\n",
        "    answers.append( '<START> ' + answers_with_tags[i] + ' <END>' )\n",
        "\n",
        "\n",
        "tokenizer = preprocessing.text.Tokenizer()\n",
        "tokenizer.fit_on_texts( questions + answers )\n",
        "VOCAB_SIZE = len( tokenizer.word_index )+1\n",
        "print( 'VOCAB SIZE : {}'.format( VOCAB_SIZE ))"
      ],
      "execution_count": null,
      "outputs": [
        {
          "output_type": "stream",
          "text": [
            "VOCAB SIZE : 1894\n"
          ],
          "name": "stdout"
        }
      ]
    },
    {
      "cell_type": "markdown",
      "metadata": {
        "id": "V8nU6LCRByWj"
      },
      "source": [
        "#C) Preparing data for Seq2Seq model\n",
        "Our model requires three arrays namely encoder_input_data, decoder_input_data and decoder_output_data.\n",
        "\n",
        "For encoder_input_data :\n",
        "\n",
        "Tokenize the questions. Pad them to their maximum length.\n",
        "For decoder_input_data :\n",
        "\n",
        "Tokenize the answers. Pad them to their maximum length.\n",
        "For decoder_output_data :\n",
        "\n",
        "Tokenize the answers. Remove the first element from all the tokenized_answers. This is the <START> element which we added earlier.\n",
        "[ ]\n"
      ]
    },
    {
      "cell_type": "code",
      "metadata": {
        "colab": {
          "base_uri": "https://localhost:8080/"
        },
        "id": "e3gd2rtCBrnc",
        "outputId": "83eeb2e7-9248-48fc-f666-0620e158e621"
      },
      "source": [
        "\n",
        "from gensim.models import Word2Vec\n",
        "import re\n",
        "\n",
        "vocab = []\n",
        "for word in tokenizer.word_index:\n",
        "    vocab.append( word )\n",
        "\n",
        "def tokenize( sentences ):\n",
        "    tokens_list = []\n",
        "    vocabulary = []\n",
        "    for sentence in sentences:\n",
        "        sentence = sentence.lower()\n",
        "        sentence = re.sub( '[^a-zA-Z]', ' ', sentence )\n",
        "        tokens = sentence.split()\n",
        "        vocabulary += tokens\n",
        "        tokens_list.append( tokens )\n",
        "    return tokens_list , vocabulary\n",
        "\n",
        "#p = tokenize( questions + answers )\n",
        "#model = Word2Vec( p[ 0 ] ) \n",
        "\n",
        "#embedding_matrix = np.zeros( ( VOCAB_SIZE , 100 ) )\n",
        "#for i in range( len( tokenizer.word_index ) ):\n",
        "    #embedding_matrix[ i ] = model[ vocab[i] ]\n",
        "\n",
        "# encoder_input_data\n",
        "tokenized_questions = tokenizer.texts_to_sequences( questions )\n",
        "maxlen_questions = max( [ len(x) for x in tokenized_questions ] )\n",
        "padded_questions = preprocessing.sequence.pad_sequences( tokenized_questions , maxlen=maxlen_questions , padding='post' )\n",
        "encoder_input_data = np.array( padded_questions )\n",
        "print( encoder_input_data.shape , maxlen_questions )\n",
        "\n",
        "# decoder_input_data\n",
        "tokenized_answers = tokenizer.texts_to_sequences( answers )\n",
        "maxlen_answers = max( [ len(x) for x in tokenized_answers ] )\n",
        "padded_answers = preprocessing.sequence.pad_sequences( tokenized_answers , maxlen=maxlen_answers , padding='post' )\n",
        "decoder_input_data = np.array( padded_answers )\n",
        "print( decoder_input_data.shape , maxlen_answers )\n",
        "\n",
        "# decoder_output_data\n",
        "tokenized_answers = tokenizer.texts_to_sequences( answers )\n",
        "for i in range(len(tokenized_answers)) :\n",
        "    tokenized_answers[i] = tokenized_answers[i][1:]\n",
        "padded_answers = preprocessing.sequence.pad_sequences( tokenized_answers , maxlen=maxlen_answers , padding='post' )\n",
        "onehot_answers = utils.to_categorical( padded_answers , VOCAB_SIZE )\n",
        "decoder_output_data = np.array( onehot_answers )\n",
        "print( decoder_output_data.shape )"
      ],
      "execution_count": null,
      "outputs": [
        {
          "output_type": "stream",
          "text": [
            "(564, 22) 22\n",
            "(564, 74) 74\n",
            "(564, 74, 1894)\n"
          ],
          "name": "stdout"
        }
      ]
    },
    {
      "cell_type": "markdown",
      "metadata": {
        "id": "igU0ABxfD0UT"
      },
      "source": [
        "#3) Defining the Encoder-Decoder model\n",
        "The model will have Embedding, LSTM and Dense layers. The basic configuration is as follows.\n",
        "\n",
        "* 2 Input Layers : One for encoder_input_data and another for \n",
        "decoder_input_data.\n",
        "* Embedding layer : For converting token vectors to fix sized dense vectors. ( Note : Don't forget the mask_zero=True argument here )\n",
        "* LSTM layer : Provide access to Long-Short Term cells.\n",
        "Working :\n",
        "\n",
        "  -\n",
        "\n",
        "1. The encoder_input_data comes in the Embedding layer (encoder_embedding).\n",
        "2. The output of the Embedding layer goes to the LSTM cell which produces 2 state vectors ( h and c which are encoder_states )\n",
        "3. These states are set in the LSTM cell of the decoder.\n",
        "4. The decoder_input_data comes in through the Embedding layer.\n",
        "5. The Embeddings goes in LSTM cell ( which had the states ) to produce seqeunces."
      ]
    },
    {
      "cell_type": "markdown",
      "metadata": {
        "id": "gw3ZrBsUFsIz"
      },
      "source": [
        "<center><img style=\"float: center;\" src=\"https://cdn-images-1.medium.com/max/1600/1*bnRvZDDapHF8Gk8soACtCQ.gif\"></center>\n",
        "\n",
        "\n",
        "Image credits to [Hackernoon](https://hackernoon.com/tutorial-3-what-is-seq2seq-for-text-summarization-and-why-68ebaa644db0)."
      ]
    },
    {
      "cell_type": "code",
      "metadata": {
        "colab": {
          "base_uri": "https://localhost:8080/"
        },
        "id": "Qh67sIbQCXBr",
        "outputId": "b2e2cd4e-3cc6-4ac2-bcaf-64603d7c3da5"
      },
      "source": [
        "encoder_inputs = tf.keras.layers.Input(shape=( maxlen_questions , ))\n",
        "encoder_embedding = tf.keras.layers.Embedding( VOCAB_SIZE, 200 , mask_zero=True ) (encoder_inputs)\n",
        "encoder_outputs , state_h , state_c = tf.keras.layers.LSTM( 200 , return_state=True )( encoder_embedding )\n",
        "encoder_states = [ state_h , state_c ]\n",
        "\n",
        "decoder_inputs = tf.keras.layers.Input(shape=( maxlen_answers ,  ))\n",
        "decoder_embedding = tf.keras.layers.Embedding( VOCAB_SIZE, 200 , mask_zero=True) (decoder_inputs)\n",
        "decoder_lstm = tf.keras.layers.LSTM( 200 , return_state=True , return_sequences=True )\n",
        "decoder_outputs , _ , _ = decoder_lstm ( decoder_embedding , initial_state=encoder_states )\n",
        "decoder_dense = tf.keras.layers.Dense( VOCAB_SIZE , activation=tf.keras.activations.softmax ) \n",
        "output = decoder_dense ( decoder_outputs )\n",
        "\n",
        "model = tf.keras.models.Model([encoder_inputs, decoder_inputs], output )\n",
        "model.compile(optimizer=tf.keras.optimizers.RMSprop(), loss='categorical_crossentropy')\n",
        "\n",
        "model.summary()"
      ],
      "execution_count": null,
      "outputs": [
        {
          "output_type": "stream",
          "text": [
            "Model: \"model\"\n",
            "__________________________________________________________________________________________________\n",
            "Layer (type)                    Output Shape         Param #     Connected to                     \n",
            "==================================================================================================\n",
            "input_1 (InputLayer)            [(None, 22)]         0                                            \n",
            "__________________________________________________________________________________________________\n",
            "input_2 (InputLayer)            [(None, 74)]         0                                            \n",
            "__________________________________________________________________________________________________\n",
            "embedding (Embedding)           (None, 22, 200)      378800      input_1[0][0]                    \n",
            "__________________________________________________________________________________________________\n",
            "embedding_1 (Embedding)         (None, 74, 200)      378800      input_2[0][0]                    \n",
            "__________________________________________________________________________________________________\n",
            "lstm (LSTM)                     [(None, 200), (None, 320800      embedding[0][0]                  \n",
            "__________________________________________________________________________________________________\n",
            "lstm_1 (LSTM)                   [(None, 74, 200), (N 320800      embedding_1[0][0]                \n",
            "                                                                 lstm[0][1]                       \n",
            "                                                                 lstm[0][2]                       \n",
            "__________________________________________________________________________________________________\n",
            "dense (Dense)                   (None, 74, 1894)     380694      lstm_1[0][0]                     \n",
            "==================================================================================================\n",
            "Total params: 1,779,894\n",
            "Trainable params: 1,779,894\n",
            "Non-trainable params: 0\n",
            "__________________________________________________________________________________________________\n"
          ],
          "name": "stdout"
        }
      ]
    },
    {
      "cell_type": "markdown",
      "metadata": {
        "id": "A8x7bNe3Hyu8"
      },
      "source": [
        "#4) Training the model\n",
        "We train the model for a number of epochs with RMSprop optimizer and categorical_crossentropy loss function."
      ]
    },
    {
      "cell_type": "code",
      "metadata": {
        "colab": {
          "base_uri": "https://localhost:8080/"
        },
        "id": "w51CX3tWHijF",
        "outputId": "4c53c8e3-0ad3-4c81-d22a-090556da47ce"
      },
      "source": [
        "model.fit([encoder_input_data , decoder_input_data], decoder_output_data, batch_size=50, epochs=150 ) \n",
        "model.save( 'model.h5' ) \n"
      ],
      "execution_count": null,
      "outputs": [
        {
          "output_type": "stream",
          "text": [
            "Epoch 1/150\n",
            "12/12 [==============================] - 13s 42ms/step - loss: 1.2991\n",
            "Epoch 2/150\n",
            "12/12 [==============================] - 0s 40ms/step - loss: 1.1168\n",
            "Epoch 3/150\n",
            "12/12 [==============================] - 0s 40ms/step - loss: 1.0956\n",
            "Epoch 4/150\n",
            "12/12 [==============================] - 0s 39ms/step - loss: 1.0767\n",
            "Epoch 5/150\n",
            "12/12 [==============================] - 0s 39ms/step - loss: 1.0571\n",
            "Epoch 6/150\n",
            "12/12 [==============================] - 0s 40ms/step - loss: 1.0399\n",
            "Epoch 7/150\n",
            "12/12 [==============================] - 0s 39ms/step - loss: 1.0246\n",
            "Epoch 8/150\n",
            "12/12 [==============================] - 0s 40ms/step - loss: 1.0118\n",
            "Epoch 9/150\n",
            "12/12 [==============================] - 0s 40ms/step - loss: 0.9990\n",
            "Epoch 10/150\n",
            "12/12 [==============================] - 0s 39ms/step - loss: 0.9857\n",
            "Epoch 11/150\n",
            "12/12 [==============================] - 0s 40ms/step - loss: 0.9717\n",
            "Epoch 12/150\n",
            "12/12 [==============================] - 0s 39ms/step - loss: 0.9573\n",
            "Epoch 13/150\n",
            "12/12 [==============================] - 0s 39ms/step - loss: 0.9426\n",
            "Epoch 14/150\n",
            "12/12 [==============================] - 0s 40ms/step - loss: 0.9281\n",
            "Epoch 15/150\n",
            "12/12 [==============================] - 0s 39ms/step - loss: 0.9133\n",
            "Epoch 16/150\n",
            "12/12 [==============================] - 0s 39ms/step - loss: 0.8979\n",
            "Epoch 17/150\n",
            "12/12 [==============================] - 0s 41ms/step - loss: 0.8843\n",
            "Epoch 18/150\n",
            "12/12 [==============================] - 0s 40ms/step - loss: 0.8690\n",
            "Epoch 19/150\n",
            "12/12 [==============================] - 0s 39ms/step - loss: 0.8561\n",
            "Epoch 20/150\n",
            "12/12 [==============================] - 0s 40ms/step - loss: 0.8424\n",
            "Epoch 21/150\n",
            "12/12 [==============================] - 0s 40ms/step - loss: 0.8295\n",
            "Epoch 22/150\n",
            "12/12 [==============================] - 0s 40ms/step - loss: 0.8162\n",
            "Epoch 23/150\n",
            "12/12 [==============================] - 0s 40ms/step - loss: 0.8040\n",
            "Epoch 24/150\n",
            "12/12 [==============================] - 0s 41ms/step - loss: 0.7926\n",
            "Epoch 25/150\n",
            "12/12 [==============================] - 0s 40ms/step - loss: 0.7804\n",
            "Epoch 26/150\n",
            "12/12 [==============================] - 0s 40ms/step - loss: 0.7694\n",
            "Epoch 27/150\n",
            "12/12 [==============================] - 0s 40ms/step - loss: 0.7581\n",
            "Epoch 28/150\n",
            "12/12 [==============================] - 0s 41ms/step - loss: 0.7460\n",
            "Epoch 29/150\n",
            "12/12 [==============================] - 0s 40ms/step - loss: 0.7345\n",
            "Epoch 30/150\n",
            "12/12 [==============================] - 0s 41ms/step - loss: 0.7247\n",
            "Epoch 31/150\n",
            "12/12 [==============================] - 0s 40ms/step - loss: 0.7133\n",
            "Epoch 32/150\n",
            "12/12 [==============================] - 0s 40ms/step - loss: 0.7028\n",
            "Epoch 33/150\n",
            "12/12 [==============================] - 0s 40ms/step - loss: 0.6930\n",
            "Epoch 34/150\n",
            "12/12 [==============================] - 0s 40ms/step - loss: 0.6821\n",
            "Epoch 35/150\n",
            "12/12 [==============================] - 0s 39ms/step - loss: 0.6724\n",
            "Epoch 36/150\n",
            "12/12 [==============================] - 0s 40ms/step - loss: 0.6605\n",
            "Epoch 37/150\n",
            "12/12 [==============================] - 0s 40ms/step - loss: 0.6524\n",
            "Epoch 38/150\n",
            "12/12 [==============================] - 0s 40ms/step - loss: 0.6406\n",
            "Epoch 39/150\n",
            "12/12 [==============================] - 0s 39ms/step - loss: 0.6311\n",
            "Epoch 40/150\n",
            "12/12 [==============================] - 0s 39ms/step - loss: 0.6203\n",
            "Epoch 41/150\n",
            "12/12 [==============================] - 0s 39ms/step - loss: 0.6106\n",
            "Epoch 42/150\n",
            "12/12 [==============================] - 0s 40ms/step - loss: 0.6003\n",
            "Epoch 43/150\n",
            "12/12 [==============================] - 0s 39ms/step - loss: 0.5904\n",
            "Epoch 44/150\n",
            "12/12 [==============================] - 0s 39ms/step - loss: 0.5803\n",
            "Epoch 45/150\n",
            "12/12 [==============================] - 0s 38ms/step - loss: 0.5711\n",
            "Epoch 46/150\n",
            "12/12 [==============================] - 0s 39ms/step - loss: 0.5617\n",
            "Epoch 47/150\n",
            "12/12 [==============================] - 0s 39ms/step - loss: 0.5512\n",
            "Epoch 48/150\n",
            "12/12 [==============================] - 0s 39ms/step - loss: 0.5428\n",
            "Epoch 49/150\n",
            "12/12 [==============================] - 0s 39ms/step - loss: 0.5322\n",
            "Epoch 50/150\n",
            "12/12 [==============================] - 0s 38ms/step - loss: 0.5221\n",
            "Epoch 51/150\n",
            "12/12 [==============================] - 0s 38ms/step - loss: 0.5147\n",
            "Epoch 52/150\n",
            "12/12 [==============================] - 0s 37ms/step - loss: 0.5032\n",
            "Epoch 53/150\n",
            "12/12 [==============================] - 0s 37ms/step - loss: 0.4955\n",
            "Epoch 54/150\n",
            "12/12 [==============================] - 0s 37ms/step - loss: 0.4852\n",
            "Epoch 55/150\n",
            "12/12 [==============================] - 0s 37ms/step - loss: 0.4758\n",
            "Epoch 56/150\n",
            "12/12 [==============================] - 0s 38ms/step - loss: 0.4670\n",
            "Epoch 57/150\n",
            "12/12 [==============================] - 0s 37ms/step - loss: 0.4573\n",
            "Epoch 58/150\n",
            "12/12 [==============================] - 0s 38ms/step - loss: 0.4506\n",
            "Epoch 59/150\n",
            "12/12 [==============================] - 0s 36ms/step - loss: 0.4400\n",
            "Epoch 60/150\n",
            "12/12 [==============================] - 0s 40ms/step - loss: 0.4324\n",
            "Epoch 61/150\n",
            "12/12 [==============================] - 0s 37ms/step - loss: 0.4224\n",
            "Epoch 62/150\n",
            "12/12 [==============================] - 0s 37ms/step - loss: 0.4140\n",
            "Epoch 63/150\n",
            "12/12 [==============================] - 0s 36ms/step - loss: 0.4060\n",
            "Epoch 64/150\n",
            "12/12 [==============================] - 0s 38ms/step - loss: 0.3979\n",
            "Epoch 65/150\n",
            "12/12 [==============================] - 0s 38ms/step - loss: 0.3894\n",
            "Epoch 66/150\n",
            "12/12 [==============================] - 0s 37ms/step - loss: 0.3799\n",
            "Epoch 67/150\n",
            "12/12 [==============================] - 0s 37ms/step - loss: 0.3736\n",
            "Epoch 68/150\n",
            "12/12 [==============================] - 0s 37ms/step - loss: 0.3650\n",
            "Epoch 69/150\n",
            "12/12 [==============================] - 0s 37ms/step - loss: 0.3565\n",
            "Epoch 70/150\n",
            "12/12 [==============================] - 0s 37ms/step - loss: 0.3503\n",
            "Epoch 71/150\n",
            "12/12 [==============================] - 0s 37ms/step - loss: 0.3406\n",
            "Epoch 72/150\n",
            "12/12 [==============================] - 0s 37ms/step - loss: 0.3331\n",
            "Epoch 73/150\n",
            "12/12 [==============================] - 0s 36ms/step - loss: 0.3269\n",
            "Epoch 74/150\n",
            "12/12 [==============================] - 0s 38ms/step - loss: 0.3198\n",
            "Epoch 75/150\n",
            "12/12 [==============================] - 0s 37ms/step - loss: 0.3109\n",
            "Epoch 76/150\n",
            "12/12 [==============================] - 0s 39ms/step - loss: 0.3044\n",
            "Epoch 77/150\n",
            "12/12 [==============================] - 0s 38ms/step - loss: 0.2983\n",
            "Epoch 78/150\n",
            "12/12 [==============================] - 0s 37ms/step - loss: 0.2906\n",
            "Epoch 79/150\n",
            "12/12 [==============================] - 0s 38ms/step - loss: 0.2831\n",
            "Epoch 80/150\n",
            "12/12 [==============================] - 0s 38ms/step - loss: 0.2763\n",
            "Epoch 81/150\n",
            "12/12 [==============================] - 0s 37ms/step - loss: 0.2711\n",
            "Epoch 82/150\n",
            "12/12 [==============================] - 0s 39ms/step - loss: 0.2640\n",
            "Epoch 83/150\n",
            "12/12 [==============================] - 0s 37ms/step - loss: 0.2583\n",
            "Epoch 84/150\n",
            "12/12 [==============================] - 0s 37ms/step - loss: 0.2513\n",
            "Epoch 85/150\n",
            "12/12 [==============================] - 0s 38ms/step - loss: 0.2457\n",
            "Epoch 86/150\n",
            "12/12 [==============================] - 0s 37ms/step - loss: 0.2384\n",
            "Epoch 87/150\n",
            "12/12 [==============================] - 0s 39ms/step - loss: 0.2335\n",
            "Epoch 88/150\n",
            "12/12 [==============================] - 0s 38ms/step - loss: 0.2273\n",
            "Epoch 89/150\n",
            "12/12 [==============================] - 0s 38ms/step - loss: 0.2214\n",
            "Epoch 90/150\n",
            "12/12 [==============================] - 0s 36ms/step - loss: 0.2165\n",
            "Epoch 91/150\n",
            "12/12 [==============================] - 0s 37ms/step - loss: 0.2109\n",
            "Epoch 92/150\n",
            "12/12 [==============================] - 0s 38ms/step - loss: 0.2046\n",
            "Epoch 93/150\n",
            "12/12 [==============================] - 0s 37ms/step - loss: 0.1999\n",
            "Epoch 94/150\n",
            "12/12 [==============================] - 0s 38ms/step - loss: 0.1954\n",
            "Epoch 95/150\n",
            "12/12 [==============================] - 0s 36ms/step - loss: 0.1896\n",
            "Epoch 96/150\n",
            "12/12 [==============================] - 0s 37ms/step - loss: 0.1844\n",
            "Epoch 97/150\n",
            "12/12 [==============================] - 0s 37ms/step - loss: 0.1797\n",
            "Epoch 98/150\n",
            "12/12 [==============================] - 0s 39ms/step - loss: 0.1755\n",
            "Epoch 99/150\n",
            "12/12 [==============================] - 0s 37ms/step - loss: 0.1709\n",
            "Epoch 100/150\n",
            "12/12 [==============================] - 0s 38ms/step - loss: 0.1657\n",
            "Epoch 101/150\n",
            "12/12 [==============================] - 0s 37ms/step - loss: 0.1616\n",
            "Epoch 102/150\n",
            "12/12 [==============================] - 0s 37ms/step - loss: 0.1576\n",
            "Epoch 103/150\n",
            "12/12 [==============================] - 0s 37ms/step - loss: 0.1534\n",
            "Epoch 104/150\n",
            "12/12 [==============================] - 0s 37ms/step - loss: 0.1486\n",
            "Epoch 105/150\n",
            "12/12 [==============================] - 0s 40ms/step - loss: 0.1454\n",
            "Epoch 106/150\n",
            "12/12 [==============================] - 0s 37ms/step - loss: 0.1407\n",
            "Epoch 107/150\n",
            "12/12 [==============================] - 0s 38ms/step - loss: 0.1365\n",
            "Epoch 108/150\n",
            "12/12 [==============================] - 0s 36ms/step - loss: 0.1330\n",
            "Epoch 109/150\n",
            "12/12 [==============================] - 0s 38ms/step - loss: 0.1296\n",
            "Epoch 110/150\n",
            "12/12 [==============================] - 0s 38ms/step - loss: 0.1255\n",
            "Epoch 111/150\n",
            "12/12 [==============================] - 0s 38ms/step - loss: 0.1223\n",
            "Epoch 112/150\n",
            "12/12 [==============================] - 0s 37ms/step - loss: 0.1187\n",
            "Epoch 113/150\n",
            "12/12 [==============================] - 0s 38ms/step - loss: 0.1153\n",
            "Epoch 114/150\n",
            "12/12 [==============================] - 0s 38ms/step - loss: 0.1118\n",
            "Epoch 115/150\n",
            "12/12 [==============================] - 0s 38ms/step - loss: 0.1090\n",
            "Epoch 116/150\n",
            "12/12 [==============================] - 0s 37ms/step - loss: 0.1053\n",
            "Epoch 117/150\n",
            "12/12 [==============================] - 0s 37ms/step - loss: 0.1027\n",
            "Epoch 118/150\n",
            "12/12 [==============================] - 0s 38ms/step - loss: 0.1000\n",
            "Epoch 119/150\n",
            "12/12 [==============================] - 0s 37ms/step - loss: 0.0969\n",
            "Epoch 120/150\n",
            "12/12 [==============================] - 0s 38ms/step - loss: 0.0943\n",
            "Epoch 121/150\n",
            "12/12 [==============================] - 0s 37ms/step - loss: 0.0907\n",
            "Epoch 122/150\n",
            "12/12 [==============================] - 0s 37ms/step - loss: 0.0895\n",
            "Epoch 123/150\n",
            "12/12 [==============================] - 0s 38ms/step - loss: 0.0863\n",
            "Epoch 124/150\n",
            "12/12 [==============================] - 0s 37ms/step - loss: 0.0831\n",
            "Epoch 125/150\n",
            "12/12 [==============================] - 0s 38ms/step - loss: 0.0817\n",
            "Epoch 126/150\n",
            "12/12 [==============================] - 0s 36ms/step - loss: 0.0788\n",
            "Epoch 127/150\n",
            "12/12 [==============================] - 0s 38ms/step - loss: 0.0771\n",
            "Epoch 128/150\n",
            "12/12 [==============================] - 0s 36ms/step - loss: 0.0739\n",
            "Epoch 129/150\n",
            "12/12 [==============================] - 0s 38ms/step - loss: 0.0715\n",
            "Epoch 130/150\n",
            "12/12 [==============================] - 0s 36ms/step - loss: 0.0703\n",
            "Epoch 131/150\n",
            "12/12 [==============================] - 0s 38ms/step - loss: 0.0676\n",
            "Epoch 132/150\n",
            "12/12 [==============================] - 0s 39ms/step - loss: 0.0668\n",
            "Epoch 133/150\n",
            "12/12 [==============================] - 0s 37ms/step - loss: 0.0635\n",
            "Epoch 134/150\n",
            "12/12 [==============================] - 0s 38ms/step - loss: 0.0626\n",
            "Epoch 135/150\n",
            "12/12 [==============================] - 0s 38ms/step - loss: 0.0604\n",
            "Epoch 136/150\n",
            "12/12 [==============================] - 0s 38ms/step - loss: 0.0593\n",
            "Epoch 137/150\n",
            "12/12 [==============================] - 0s 38ms/step - loss: 0.0575\n",
            "Epoch 138/150\n",
            "12/12 [==============================] - 0s 38ms/step - loss: 0.0553\n",
            "Epoch 139/150\n",
            "12/12 [==============================] - 0s 37ms/step - loss: 0.0535\n",
            "Epoch 140/150\n",
            "12/12 [==============================] - 0s 39ms/step - loss: 0.0523\n",
            "Epoch 141/150\n",
            "12/12 [==============================] - 0s 37ms/step - loss: 0.0511\n",
            "Epoch 142/150\n",
            "12/12 [==============================] - 0s 37ms/step - loss: 0.0493\n",
            "Epoch 143/150\n",
            "12/12 [==============================] - 0s 40ms/step - loss: 0.0477\n",
            "Epoch 144/150\n",
            "12/12 [==============================] - 0s 38ms/step - loss: 0.0467\n",
            "Epoch 145/150\n",
            "12/12 [==============================] - 0s 40ms/step - loss: 0.0455\n",
            "Epoch 146/150\n",
            "12/12 [==============================] - 0s 39ms/step - loss: 0.0446\n",
            "Epoch 147/150\n",
            "12/12 [==============================] - 0s 40ms/step - loss: 0.0434\n",
            "Epoch 148/150\n",
            "12/12 [==============================] - 0s 39ms/step - loss: 0.0416\n",
            "Epoch 149/150\n",
            "12/12 [==============================] - 0s 40ms/step - loss: 0.0406\n",
            "Epoch 150/150\n",
            "12/12 [==============================] - 0s 38ms/step - loss: 0.0403\n"
          ],
          "name": "stdout"
        }
      ]
    },
    {
      "cell_type": "markdown",
      "metadata": {
        "id": "pxp-0yODJA01"
      },
      "source": [
        "#5) Defining inference models\n",
        "We create inference models which help in predicting answers.\n",
        "\n",
        "Encoder inference model : Takes the question as input and outputs LSTM states ( h and c ).\n",
        "\n",
        "Decoder inference model : Takes in 2 inputs, one are the LSTM states ( Output of encoder model ), second are the answer input seqeunces ( ones not having the <start> tag ). It will output the answers for the question which we fed to the encoder model and its state values."
      ]
    },
    {
      "cell_type": "code",
      "metadata": {
        "id": "eOsFkpIJIGgB"
      },
      "source": [
        "def make_inference_models():\n",
        "    \n",
        "    encoder_model = tf.keras.models.Model(encoder_inputs, encoder_states)\n",
        "    \n",
        "    decoder_state_input_h = tf.keras.layers.Input(shape=( 200 ,))\n",
        "    decoder_state_input_c = tf.keras.layers.Input(shape=( 200 ,))\n",
        "    \n",
        "    decoder_states_inputs = [decoder_state_input_h, decoder_state_input_c]\n",
        "    \n",
        "    decoder_outputs, state_h, state_c = decoder_lstm(\n",
        "        decoder_embedding , initial_state=decoder_states_inputs)\n",
        "    decoder_states = [state_h, state_c]\n",
        "    decoder_outputs = decoder_dense(decoder_outputs)\n",
        "    decoder_model = tf.keras.models.Model(\n",
        "        [decoder_inputs] + decoder_states_inputs,\n",
        "        [decoder_outputs] + decoder_states)\n",
        "    \n",
        "    return encoder_model , decoder_model"
      ],
      "execution_count": null,
      "outputs": []
    },
    {
      "cell_type": "markdown",
      "metadata": {
        "id": "_XDEt0EsLG8B"
      },
      "source": [
        "#6) Talking with our Chatbot\n",
        "First, we define a method str_to_tokens which converts str questions to Integer tokens with padding."
      ]
    },
    {
      "cell_type": "code",
      "metadata": {
        "id": "BHTscaTbK9fi"
      },
      "source": [
        "import re\n",
        "def str_to_tokens( sentence : str ):\n",
        "    words = sentence.lower().split()\n",
        "    tokens_list = list()\n",
        "    for word in words:\n",
        "        try:\n",
        "          word = re.sub('\\W+','', word )\n",
        "          tokens_list.append( tokenizer.word_index[ word ] ) \n",
        "        except:\n",
        "          continue\n",
        "    return preprocessing.sequence.pad_sequences( [tokens_list] , maxlen=maxlen_questions , padding='post')\n"
      ],
      "execution_count": null,
      "outputs": []
    },
    {
      "cell_type": "markdown",
      "metadata": {
        "id": "U7_9gd90Lvd_"
      },
      "source": [
        "First, we take a question as input and predict the state values using enc_model.\n",
        "\n",
        "We set the state values in the decoder's LSTM.\n",
        "\n",
        "Then, we generate a sequence which contains the <start> element.\n",
        "\n",
        "We input this sequence in the dec_model.\n",
        "\n",
        "We replace the <start> element with the element which was predicted by the dec_model and update the state values.\n",
        "\n",
        "We carry out the above steps iteratively till we hit the <end> tag or the maximum answer length."
      ]
    },
    {
      "cell_type": "code",
      "metadata": {
        "colab": {
          "base_uri": "https://localhost:8080/",
          "height": 693
        },
        "id": "YrNfuqjzLVWf",
        "outputId": "ffc5d1e8-1094-42d7-b9f3-124aa363e86d"
      },
      "source": [
        "enc_model , dec_model = make_inference_models()\n",
        "\n",
        "for _ in range(10):\n",
        "    states_values = enc_model.predict( str_to_tokens( input( 'Enter question : ' ) ) )\n",
        "    empty_target_seq = np.zeros( ( 1 , 1 ) )\n",
        "    empty_target_seq[0, 0] = tokenizer.word_index['start']\n",
        "    stop_condition = False\n",
        "    decoded_translation = ''\n",
        "    \n",
        "    while not stop_condition :\n",
        "        dec_outputs , h , c = dec_model.predict([ empty_target_seq ] + states_values )\n",
        "        sampled_word_index = np.argmax( dec_outputs[0, -1, :] )\n",
        "        sampled_word = None\n",
        "        for word , index in tokenizer.word_index.items() :\n",
        "            if sampled_word_index == index :\n",
        "                decoded_translation += ' {}'.format( word )\n",
        "                sampled_word = word\n",
        "        \n",
        "        if sampled_word == 'end' or len(decoded_translation.split()) > maxlen_answers:\n",
        "            stop_condition = True\n",
        "            \n",
        "        empty_target_seq = np.zeros( ( 1 , 1 ) )  \n",
        "        empty_target_seq[ 0 , 0 ] = sampled_word_index\n",
        "        states_values = [ h , c ] \n",
        "\n",
        "    print( decoded_translation )"
      ],
      "execution_count": null,
      "outputs": [
        {
          "output_type": "stream",
          "text": [
            "Enter question : what are you?\n",
            "WARNING:tensorflow:Model was constructed with shape (None, 74) for input KerasTensor(type_spec=TensorSpec(shape=(None, 74), dtype=tf.float32, name='input_2'), name='input_2', description=\"created by layer 'input_2'\"), but it was called on an input with incompatible shape (None, 1).\n",
            " i am just an artificial intelligence end\n",
            "Enter question : thats cool your cool.\n",
            " i am not really into football end\n",
            "Enter question : lol\n",
            " robots rule end\n"
          ],
          "name": "stdout"
        },
        {
          "output_type": "error",
          "ename": "KeyboardInterrupt",
          "evalue": "ignored",
          "traceback": [
            "\u001b[0;31m---------------------------------------------------------------------------\u001b[0m",
            "\u001b[0;31mKeyboardInterrupt\u001b[0m                         Traceback (most recent call last)",
            "\u001b[0;32m/usr/local/lib/python3.7/dist-packages/ipykernel/kernelbase.py\u001b[0m in \u001b[0;36m_input_request\u001b[0;34m(self, prompt, ident, parent, password)\u001b[0m\n\u001b[1;32m    728\u001b[0m             \u001b[0;32mtry\u001b[0m\u001b[0;34m:\u001b[0m\u001b[0;34m\u001b[0m\u001b[0;34m\u001b[0m\u001b[0m\n\u001b[0;32m--> 729\u001b[0;31m                 \u001b[0mident\u001b[0m\u001b[0;34m,\u001b[0m \u001b[0mreply\u001b[0m \u001b[0;34m=\u001b[0m \u001b[0mself\u001b[0m\u001b[0;34m.\u001b[0m\u001b[0msession\u001b[0m\u001b[0;34m.\u001b[0m\u001b[0mrecv\u001b[0m\u001b[0;34m(\u001b[0m\u001b[0mself\u001b[0m\u001b[0;34m.\u001b[0m\u001b[0mstdin_socket\u001b[0m\u001b[0;34m,\u001b[0m \u001b[0;36m0\u001b[0m\u001b[0;34m)\u001b[0m\u001b[0;34m\u001b[0m\u001b[0;34m\u001b[0m\u001b[0m\n\u001b[0m\u001b[1;32m    730\u001b[0m             \u001b[0;32mexcept\u001b[0m \u001b[0mException\u001b[0m\u001b[0;34m:\u001b[0m\u001b[0;34m\u001b[0m\u001b[0;34m\u001b[0m\u001b[0m\n",
            "\u001b[0;32m/usr/local/lib/python3.7/dist-packages/jupyter_client/session.py\u001b[0m in \u001b[0;36mrecv\u001b[0;34m(self, socket, mode, content, copy)\u001b[0m\n\u001b[1;32m    802\u001b[0m         \u001b[0;32mtry\u001b[0m\u001b[0;34m:\u001b[0m\u001b[0;34m\u001b[0m\u001b[0;34m\u001b[0m\u001b[0m\n\u001b[0;32m--> 803\u001b[0;31m             \u001b[0mmsg_list\u001b[0m \u001b[0;34m=\u001b[0m \u001b[0msocket\u001b[0m\u001b[0;34m.\u001b[0m\u001b[0mrecv_multipart\u001b[0m\u001b[0;34m(\u001b[0m\u001b[0mmode\u001b[0m\u001b[0;34m,\u001b[0m \u001b[0mcopy\u001b[0m\u001b[0;34m=\u001b[0m\u001b[0mcopy\u001b[0m\u001b[0;34m)\u001b[0m\u001b[0;34m\u001b[0m\u001b[0;34m\u001b[0m\u001b[0m\n\u001b[0m\u001b[1;32m    804\u001b[0m         \u001b[0;32mexcept\u001b[0m \u001b[0mzmq\u001b[0m\u001b[0;34m.\u001b[0m\u001b[0mZMQError\u001b[0m \u001b[0;32mas\u001b[0m \u001b[0me\u001b[0m\u001b[0;34m:\u001b[0m\u001b[0;34m\u001b[0m\u001b[0;34m\u001b[0m\u001b[0m\n",
            "\u001b[0;32m/usr/local/lib/python3.7/dist-packages/zmq/sugar/socket.py\u001b[0m in \u001b[0;36mrecv_multipart\u001b[0;34m(self, flags, copy, track)\u001b[0m\n\u001b[1;32m    618\u001b[0m         \"\"\"\n\u001b[0;32m--> 619\u001b[0;31m         \u001b[0mparts\u001b[0m \u001b[0;34m=\u001b[0m \u001b[0;34m[\u001b[0m\u001b[0mself\u001b[0m\u001b[0;34m.\u001b[0m\u001b[0mrecv\u001b[0m\u001b[0;34m(\u001b[0m\u001b[0mflags\u001b[0m\u001b[0;34m,\u001b[0m \u001b[0mcopy\u001b[0m\u001b[0;34m=\u001b[0m\u001b[0mcopy\u001b[0m\u001b[0;34m,\u001b[0m \u001b[0mtrack\u001b[0m\u001b[0;34m=\u001b[0m\u001b[0mtrack\u001b[0m\u001b[0;34m)\u001b[0m\u001b[0;34m]\u001b[0m\u001b[0;34m\u001b[0m\u001b[0;34m\u001b[0m\u001b[0m\n\u001b[0m\u001b[1;32m    620\u001b[0m         \u001b[0;31m# have first part already, only loop while more to receive\u001b[0m\u001b[0;34m\u001b[0m\u001b[0;34m\u001b[0m\u001b[0;34m\u001b[0m\u001b[0m\n",
            "\u001b[0;32mzmq/backend/cython/socket.pyx\u001b[0m in \u001b[0;36mzmq.backend.cython.socket.Socket.recv\u001b[0;34m()\u001b[0m\n",
            "\u001b[0;32mzmq/backend/cython/socket.pyx\u001b[0m in \u001b[0;36mzmq.backend.cython.socket.Socket.recv\u001b[0;34m()\u001b[0m\n",
            "\u001b[0;32mzmq/backend/cython/socket.pyx\u001b[0m in \u001b[0;36mzmq.backend.cython.socket._recv_copy\u001b[0;34m()\u001b[0m\n",
            "\u001b[0;32m/usr/local/lib/python3.7/dist-packages/zmq/backend/cython/checkrc.pxd\u001b[0m in \u001b[0;36mzmq.backend.cython.checkrc._check_rc\u001b[0;34m()\u001b[0m\n",
            "\u001b[0;31mKeyboardInterrupt\u001b[0m: ",
            "\nDuring handling of the above exception, another exception occurred:\n",
            "\u001b[0;31mKeyboardInterrupt\u001b[0m                         Traceback (most recent call last)",
            "\u001b[0;32m<ipython-input-19-67c788ed42a0>\u001b[0m in \u001b[0;36m<module>\u001b[0;34m()\u001b[0m\n\u001b[1;32m      2\u001b[0m \u001b[0;34m\u001b[0m\u001b[0m\n\u001b[1;32m      3\u001b[0m \u001b[0;32mfor\u001b[0m \u001b[0m_\u001b[0m \u001b[0;32min\u001b[0m \u001b[0mrange\u001b[0m\u001b[0;34m(\u001b[0m\u001b[0;36m10\u001b[0m\u001b[0;34m)\u001b[0m\u001b[0;34m:\u001b[0m\u001b[0;34m\u001b[0m\u001b[0;34m\u001b[0m\u001b[0m\n\u001b[0;32m----> 4\u001b[0;31m     \u001b[0mstates_values\u001b[0m \u001b[0;34m=\u001b[0m \u001b[0menc_model\u001b[0m\u001b[0;34m.\u001b[0m\u001b[0mpredict\u001b[0m\u001b[0;34m(\u001b[0m \u001b[0mstr_to_tokens\u001b[0m\u001b[0;34m(\u001b[0m \u001b[0minput\u001b[0m\u001b[0;34m(\u001b[0m \u001b[0;34m'Enter question : '\u001b[0m \u001b[0;34m)\u001b[0m \u001b[0;34m)\u001b[0m \u001b[0;34m)\u001b[0m\u001b[0;34m\u001b[0m\u001b[0;34m\u001b[0m\u001b[0m\n\u001b[0m\u001b[1;32m      5\u001b[0m     \u001b[0mempty_target_seq\u001b[0m \u001b[0;34m=\u001b[0m \u001b[0mnp\u001b[0m\u001b[0;34m.\u001b[0m\u001b[0mzeros\u001b[0m\u001b[0;34m(\u001b[0m \u001b[0;34m(\u001b[0m \u001b[0;36m1\u001b[0m \u001b[0;34m,\u001b[0m \u001b[0;36m1\u001b[0m \u001b[0;34m)\u001b[0m \u001b[0;34m)\u001b[0m\u001b[0;34m\u001b[0m\u001b[0;34m\u001b[0m\u001b[0m\n\u001b[1;32m      6\u001b[0m     \u001b[0mempty_target_seq\u001b[0m\u001b[0;34m[\u001b[0m\u001b[0;36m0\u001b[0m\u001b[0;34m,\u001b[0m \u001b[0;36m0\u001b[0m\u001b[0;34m]\u001b[0m \u001b[0;34m=\u001b[0m \u001b[0mtokenizer\u001b[0m\u001b[0;34m.\u001b[0m\u001b[0mword_index\u001b[0m\u001b[0;34m[\u001b[0m\u001b[0;34m'start'\u001b[0m\u001b[0;34m]\u001b[0m\u001b[0;34m\u001b[0m\u001b[0;34m\u001b[0m\u001b[0m\n",
            "\u001b[0;32m/usr/local/lib/python3.7/dist-packages/ipykernel/kernelbase.py\u001b[0m in \u001b[0;36mraw_input\u001b[0;34m(self, prompt)\u001b[0m\n\u001b[1;32m    702\u001b[0m             \u001b[0mself\u001b[0m\u001b[0;34m.\u001b[0m\u001b[0m_parent_ident\u001b[0m\u001b[0;34m,\u001b[0m\u001b[0;34m\u001b[0m\u001b[0;34m\u001b[0m\u001b[0m\n\u001b[1;32m    703\u001b[0m             \u001b[0mself\u001b[0m\u001b[0;34m.\u001b[0m\u001b[0m_parent_header\u001b[0m\u001b[0;34m,\u001b[0m\u001b[0;34m\u001b[0m\u001b[0;34m\u001b[0m\u001b[0m\n\u001b[0;32m--> 704\u001b[0;31m             \u001b[0mpassword\u001b[0m\u001b[0;34m=\u001b[0m\u001b[0;32mFalse\u001b[0m\u001b[0;34m,\u001b[0m\u001b[0;34m\u001b[0m\u001b[0;34m\u001b[0m\u001b[0m\n\u001b[0m\u001b[1;32m    705\u001b[0m         )\n\u001b[1;32m    706\u001b[0m \u001b[0;34m\u001b[0m\u001b[0m\n",
            "\u001b[0;32m/usr/local/lib/python3.7/dist-packages/ipykernel/kernelbase.py\u001b[0m in \u001b[0;36m_input_request\u001b[0;34m(self, prompt, ident, parent, password)\u001b[0m\n\u001b[1;32m    732\u001b[0m             \u001b[0;32mexcept\u001b[0m \u001b[0mKeyboardInterrupt\u001b[0m\u001b[0;34m:\u001b[0m\u001b[0;34m\u001b[0m\u001b[0;34m\u001b[0m\u001b[0m\n\u001b[1;32m    733\u001b[0m                 \u001b[0;31m# re-raise KeyboardInterrupt, to truncate traceback\u001b[0m\u001b[0;34m\u001b[0m\u001b[0;34m\u001b[0m\u001b[0;34m\u001b[0m\u001b[0m\n\u001b[0;32m--> 734\u001b[0;31m                 \u001b[0;32mraise\u001b[0m \u001b[0mKeyboardInterrupt\u001b[0m\u001b[0;34m\u001b[0m\u001b[0;34m\u001b[0m\u001b[0m\n\u001b[0m\u001b[1;32m    735\u001b[0m             \u001b[0;32melse\u001b[0m\u001b[0;34m:\u001b[0m\u001b[0;34m\u001b[0m\u001b[0;34m\u001b[0m\u001b[0m\n\u001b[1;32m    736\u001b[0m                 \u001b[0;32mbreak\u001b[0m\u001b[0;34m\u001b[0m\u001b[0;34m\u001b[0m\u001b[0m\n",
            "\u001b[0;31mKeyboardInterrupt\u001b[0m: "
          ]
        }
      ]
    },
    {
      "cell_type": "code",
      "metadata": {
        "id": "g9hbACgdReLT"
      },
      "source": [
        ""
      ],
      "execution_count": null,
      "outputs": []
    }
  ]
}