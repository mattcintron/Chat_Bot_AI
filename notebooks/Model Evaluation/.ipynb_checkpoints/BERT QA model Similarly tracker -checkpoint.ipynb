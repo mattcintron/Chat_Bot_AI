{
 "cells": [
  {
   "cell_type": "markdown",
   "metadata": {},
   "source": [
    "# BERT senetence similarty analyser \n",
    "by using BERT senetence similarty analyser we can begin to get a better understanding of if a question is close enoough to a target intent to use the corasponding answer.\n"
   ]
  },
  {
   "cell_type": "markdown",
   "metadata": {},
   "source": [
    "## Step 1\n",
    "lets start by reading in the current data we have set inside a target json file"
   ]
  },
  {
   "cell_type": "code",
   "execution_count": 1,
   "metadata": {},
   "outputs": [
    {
     "name": "stdout",
     "output_type": "stream",
     "text": [
      "{'tag': 'greeting', 'patterns': ['Hi', 'How are you', 'Is anyone there?', 'Hello', 'Good day', 'Whats up'], 'responses': ['Hello!'], 'context_set': ''}\n",
      "{'tag': 'goodbye', 'patterns': ['cya', 'See you later', 'Goodbye', 'I am Leaving', 'Have a Good day'], 'responses': ['Goodbye!'], 'context_set': ''}\n",
      "{'tag': 'what', 'patterns': ['what are you', 'who are you', 'what do you do', 'what is your purpose', 'what is this'], 'responses': ['I am a USCIS chat bot for handeling questions and customer service'], 'context_set': ''}\n",
      "{'tag': 'USCIS', 'patterns': ['what is USCIS', 'USCIS dose what?', 'whats USCIS do?'], 'responses': [\"U.S. Citizenship and Immigration Services is an agency of the United States Department of Homeland Security that administers the country's naturalization and immigration system\"], 'context_set': ''}\n",
      "{'tag': 'DACA', 'patterns': ['What is purpose of DACA?', 'What is deferred action?', 'What is DACA?'], 'responses': ['Under existing regulations, an individual whose case has been deferred is eligible to receive employment authorization for the period of deferred action, provided he or she can demonstrate an economic necessity for employment. DHS'], 'context_set': ''}\n",
      "{'tag': 'DACA_DETAIL', 'patterns': ['Why is DACA ending?', 'Why is DACA phasing out', 'How can I get more DACA information?', 'Frequently asked DACA questions'], 'responses': ['Taking into consideration the federal court rulings in ongoing litigation, and the September 4, 2017 letter from the Attorney General, it is clear that program should be terminated. As such, the Acting Secretary of Homeland Security rescinded the June 15, 2012 memorandum establishing the DACA program. Please see the Attorney General’s letter and the Acting Secretary of Homeland Security’s memorandum for further information on how this decision was reached.'], 'context_set': ''}\n",
      "{'tag': 'hours', 'patterns': ['when are you open', 'what are your hours', 'hours of operation', 'what is your availability'], 'responses': ['We are open 7am-4pm Monday-Friday!'], 'context_set': ''}\n"
     ]
    }
   ],
   "source": [
    "import json\n",
    "  \n",
    "# Opening JSON file\n",
    "f = open('intents.json',)\n",
    "  \n",
    "# returns JSON object as \n",
    "# a dictionary\n",
    "data = json.load(f)\n",
    "  \n",
    "# Iterating through the json\n",
    "# list\n",
    "for i in data['intents']:\n",
    "    print(i)\n",
    "  \n",
    "# Closing file\n",
    "f.close()"
   ]
  },
  {
   "cell_type": "markdown",
   "metadata": {},
   "source": [
    "## Step 2\n",
    "Now that we have our data lets orginize it so that we have all our intent questions and answers alined "
   ]
  },
  {
   "cell_type": "code",
   "execution_count": 2,
   "metadata": {},
   "outputs": [
    {
     "name": "stdout",
     "output_type": "stream",
     "text": [
      "[['Hi', 'How are you', 'Is anyone there?', 'Hello', 'Good day', 'Whats up'], ['cya', 'See you later', 'Goodbye', 'I am Leaving', 'Have a Good day'], ['what are you', 'who are you', 'what do you do', 'what is your purpose', 'what is this'], ['what is USCIS', 'USCIS dose what?', 'whats USCIS do?'], ['What is purpose of DACA?', 'What is deferred action?', 'What is DACA?'], ['Why is DACA ending?', 'Why is DACA phasing out', 'How can I get more DACA information?', 'Frequently asked DACA questions'], ['when are you open', 'what are your hours', 'hours of operation', 'what is your availability']]\n",
      "\n",
      "\n",
      "['Hello!', 'Goodbye!', 'I am a USCIS chat bot for handeling questions and customer service', \"U.S. Citizenship and Immigration Services is an agency of the United States Department of Homeland Security that administers the country's naturalization and immigration system\", 'Under existing regulations, an individual whose case has been deferred is eligible to receive employment authorization for the period of deferred action, provided he or she can demonstrate an economic necessity for employment. DHS', 'Taking into consideration the federal court rulings in ongoing litigation, and the September 4, 2017 letter from the Attorney General, it is clear that program should be terminated. As such, the Acting Secretary of Homeland Security rescinded the June 15, 2012 memorandum establishing the DACA program. Please see the Attorney General’s letter and the Acting Secretary of Homeland Security’s memorandum for further information on how this decision was reached.', 'We are open 7am-4pm Monday-Friday!']\n"
     ]
    }
   ],
   "source": [
    "questions =[]\n",
    "answers = []\n",
    "\n",
    "for i in data['intents']:\n",
    "    questions.append(i['patterns'])\n",
    "    answers.append(i['responses'][0])\n",
    "    \n",
    "print(questions)\n",
    "print('')\n",
    "print('')\n",
    "print(answers)"
   ]
  },
  {
   "cell_type": "markdown",
   "metadata": {},
   "source": [
    "## Step 3\n",
    "Now that we have our data set in two simple lists we can run comparisons on a question type versus intents and return the answer that makes the most sence given BERTS understanding of our target question.\n",
    "\n",
    "First we will set up the BERT text similarity tracker - "
   ]
  },
  {
   "cell_type": "code",
   "execution_count": 3,
   "metadata": {},
   "outputs": [],
   "source": [
    "#use this command to install sentence transformers if you need them \n",
    "#!pip install sentence-transformers\n",
    "\n",
    "from sentence_transformers import SentenceTransformer\n",
    "from sklearn.metrics.pairwise import cosine_similarity\n",
    "\n",
    "model = SentenceTransformer('bert-base-nli-mean-tokens')\n"
   ]
  },
  {
   "cell_type": "markdown",
   "metadata": {},
   "source": [
    "## Step 4\n",
    "Now that we have that set up build a method that can take in the data and map comparisons "
   ]
  },
  {
   "cell_type": "code",
   "execution_count": 4,
   "metadata": {},
   "outputs": [],
   "source": [
    "def get_similaritys(text, comparison_list, index):\n",
    "    \n",
    "    sentences = [text] + comparison_list    \n",
    "    sentence_embeddings = model.encode(sentences)\n",
    "    sentence_embeddings.shape\n",
    "    \n",
    "    #Let's calculate cosine similarity for sentence 0:\n",
    "    result=cosine_similarity([sentence_embeddings[0]],sentence_embeddings[1:])\n",
    "    \n",
    "    Max = max(result[0])\n",
    "    \n",
    "    if(Max > 0.9):\n",
    "        return ['Bingo',index]  \n",
    "    return [Max, index]\n",
    "        "
   ]
  },
  {
   "cell_type": "code",
   "execution_count": 5,
   "metadata": {},
   "outputs": [
    {
     "name": "stdout",
     "output_type": "stream",
     "text": [
      "[0.89871323, 0]\n"
     ]
    }
   ],
   "source": [
    "# test the method \n",
    "targets =['this is a good dog.', 'the cat is free.', 'who could have predicted this?','time is older than us']\n",
    "text='i think dogs are cool'\n",
    "\n",
    "result = get_similaritys(text, targets, 0)\n",
    "\n",
    "print(result)"
   ]
  },
  {
   "cell_type": "code",
   "execution_count": 6,
   "metadata": {},
   "outputs": [],
   "source": [
    "questions1 = [['this is a good dog.', 'the dog is great'],['this cat is free','a free cat walks free'],['who predicted this?'],['time is old','time is older than us']]\n",
    "answers1 =['indeed a good dog','free cats for all','not me thats for sure ', 'yes and we all should feel time is the master']\n"
   ]
  },
  {
   "cell_type": "markdown",
   "metadata": {},
   "source": [
    "## Step 5\n",
    "Now that we have a comparison method we can build a central model input method that will respond to a question with a matching answer or if none seem likely from the question a simple sorry please repeat that I do not understand."
   ]
  },
  {
   "cell_type": "code",
   "execution_count": 7,
   "metadata": {},
   "outputs": [],
   "source": [
    "def qa_model_input(text, questions1, answers1):\n",
    "    index =-1\n",
    "    targets =[]\n",
    "    for x in questions1:\n",
    "        index +=1\n",
    "        result = get_similaritys(text, x, 0)\n",
    "        if(result[0]=='Bingo'):\n",
    "            return answers1[index]\n",
    "        else:\n",
    "            targets.append(result)\n",
    "    max_value = max(targets) \n",
    "    if(max_value[0] < 0.85):\n",
    "        return(\"sorry please repeat that I do not understand.\")\n",
    "    max_index = targets.index(max_value)\n",
    "    return answers1[index] "
   ]
  },
  {
   "cell_type": "code",
   "execution_count": 8,
   "metadata": {},
   "outputs": [
    {
     "name": "stdout",
     "output_type": "stream",
     "text": [
      "Hey Im a chat bot what can I help you with today : /exit\n",
      "good bye lets talk again soon!\n"
     ]
    }
   ],
   "source": [
    "# Test run\n",
    "run = True\n",
    "while run:\n",
    "    val = input(\"Hey Im a chat bot what can I help you with today : \")\n",
    "    if(val =='/exit' or val == 'no'):\n",
    "        print('good bye lets talk again soon!')\n",
    "        break\n",
    "    \n",
    "    result = qa_model_input(val, questions1, answers1)\n",
    "    print('Question : \\n')\n",
    "    print(val)\n",
    "    print('Answer : \\n')\n",
    "    print(result)\n",
    "    print('\\n')\n",
    "    print('Great question care to ask another ?')\n",
    "    print('\\n')\n",
    "    "
   ]
  },
  {
   "cell_type": "code",
   "execution_count": 9,
   "metadata": {},
   "outputs": [
    {
     "name": "stdout",
     "output_type": "stream",
     "text": [
      "Hello Im the Maxmimus help desk chat bot what can I help you with today : DACA?\n",
      "Question : \n",
      "\n",
      "DACA?\n",
      "Answer : \n",
      "\n",
      "Under existing regulations, an individual whose case has been deferred is eligible to receive employment authorization for the period of deferred action, provided he or she can demonstrate an economic necessity for employment. DHS\n",
      "\n",
      "\n",
      "Great question care to ask another ?\n",
      "\n",
      "\n",
      "Hello Im the Maxmimus help desk chat bot what can I help you with today : /exit\n",
      "good bye lets talk again soon!\n"
     ]
    }
   ],
   "source": [
    "## max wait time is 4 to 6 seconds currently\n",
    "run = True\n",
    "while run:\n",
    "    val = input(\"Hello Im the Maxmimus help desk chat bot what can I help you with today : \")\n",
    "    if(val =='/exit' or val == 'no'):\n",
    "        print('good bye lets talk again soon!')\n",
    "        break\n",
    "    \n",
    "    result = qa_model_input(val, questions, answers)\n",
    "    print('Question : \\n')\n",
    "    print(val)\n",
    "    print('Answer : \\n')\n",
    "    print(result)\n",
    "    print('\\n')\n",
    "    print('Great question care to ask another ?')\n",
    "    print('\\n')"
   ]
  },
  {
   "cell_type": "code",
   "execution_count": null,
   "metadata": {},
   "outputs": [],
   "source": [
    "# "
   ]
  }
 ],
 "metadata": {
  "kernelspec": {
   "display_name": "Python 3",
   "language": "python",
   "name": "python3"
  },
  "language_info": {
   "codemirror_mode": {
    "name": "ipython",
    "version": 3
   },
   "file_extension": ".py",
   "mimetype": "text/x-python",
   "name": "python",
   "nbconvert_exporter": "python",
   "pygments_lexer": "ipython3",
   "version": "3.7.6"
  }
 },
 "nbformat": 4,
 "nbformat_minor": 4
}
