{
 "cells": [
  {
   "cell_type": "markdown",
   "metadata": {},
   "source": [
    "# BERT senetence similarty analyser \n",
    "by using BERT senetence similarty analyser we can begin to get a better understanding of if a question is close enoough to a target intent to use the corasponding answer.\n"
   ]
  },
  {
   "cell_type": "markdown",
   "metadata": {},
   "source": [
    "## Step 1\n",
    "lets start by reading in the current data we have set inside a target json file"
   ]
  },
  {
   "cell_type": "code",
   "execution_count": 1,
   "metadata": {},
   "outputs": [
    {
     "name": "stdout",
     "output_type": "stream",
     "text": [
      "{'tag': 'greeting', 'patterns': ['Hi', 'How are you', 'Is anyone there?', 'Hello', 'Good day', 'Whats up'], 'responses': ['Hello!'], 'context_set': ''}\n",
      "{'tag': 'goodbye', 'patterns': ['cya', 'See you later', 'Goodbye', 'I am Leaving', 'Have a Good day'], 'responses': ['Goodbye!'], 'context_set': ''}\n",
      "{'tag': 'what', 'patterns': ['what are you', 'who are you', 'what do you do', 'what is your purpose', 'what is this'], 'responses': ['I am a USCIS chat bot for handeling questions and customer service'], 'context_set': ''}\n",
      "{'tag': 'USCIS', 'patterns': ['what is USCIS', 'USCIS dose what?', 'whats USCIS do?'], 'responses': [\"U.S. Citizenship and Immigration Services is an agency of the United States Department of Homeland Security that administers the country's naturalization and immigration system\"], 'context_set': ''}\n",
      "{'tag': 'DACA', 'patterns': ['What is purpose of DACA?', 'What is deferred action?', 'What is DACA?'], 'responses': ['Under existing regulations, an individual whose case has been deferred is eligible to receive employment authorization for the period of deferred action, provided he or she can demonstrate an economic necessity for employment. DHS'], 'context_set': ''}\n",
      "{'tag': 'DACA_DETAIL', 'patterns': ['Why is DACA ending?', 'Why is DACA phasing out', 'How can I get more DACA information?', 'Frequently asked DACA questions'], 'responses': ['Taking into consideration the federal court rulings in ongoing litigation, and the September 4, 2017 letter from the Attorney General, it is clear that program should be terminated. As such, the Acting Secretary of Homeland Security rescinded the June 15, 2012 memorandum establishing the DACA program. Please see the Attorney General’s letter and the Acting Secretary of Homeland Security’s memorandum for further information on how this decision was reached.'], 'context_set': ''}\n",
      "{'tag': 'hours', 'patterns': ['when are you open', 'what are your hours', 'hours of operation', 'what is your availability'], 'responses': ['We are open 7am-4pm Monday-Friday!'], 'context_set': ''}\n"
     ]
    }
   ],
   "source": [
    "import json\n",
    "  \n",
    "# Opening JSON file\n",
    "f = open('intents.json',)\n",
    "  \n",
    "# returns JSON object as \n",
    "# a dictionary\n",
    "data = json.load(f)\n",
    "  \n",
    "# Iterating through the json\n",
    "# list\n",
    "for i in data['intents']:\n",
    "    print(i)\n",
    "  \n",
    "# Closing file\n",
    "f.close()"
   ]
  },
  {
   "cell_type": "markdown",
   "metadata": {},
   "source": [
    "## Step 2\n",
    "Now that we have our data lets orginize it so that we have all our intent questions and answers alined "
   ]
  },
  {
   "cell_type": "code",
   "execution_count": 2,
   "metadata": {},
   "outputs": [
    {
     "name": "stdout",
     "output_type": "stream",
     "text": [
      "[['Hi', 'How are you', 'Is anyone there?', 'Hello', 'Good day', 'Whats up'], ['cya', 'See you later', 'Goodbye', 'I am Leaving', 'Have a Good day'], ['what are you', 'who are you', 'what do you do', 'what is your purpose', 'what is this'], ['what is USCIS', 'USCIS dose what?', 'whats USCIS do?'], ['What is purpose of DACA?', 'What is deferred action?', 'What is DACA?'], ['Why is DACA ending?', 'Why is DACA phasing out', 'How can I get more DACA information?', 'Frequently asked DACA questions'], ['when are you open', 'what are your hours', 'hours of operation', 'what is your availability']]\n",
      "\n",
      "\n",
      "['Hello!', 'Goodbye!', 'I am a USCIS chat bot for handeling questions and customer service', \"U.S. Citizenship and Immigration Services is an agency of the United States Department of Homeland Security that administers the country's naturalization and immigration system\", 'Under existing regulations, an individual whose case has been deferred is eligible to receive employment authorization for the period of deferred action, provided he or she can demonstrate an economic necessity for employment. DHS', 'Taking into consideration the federal court rulings in ongoing litigation, and the September 4, 2017 letter from the Attorney General, it is clear that program should be terminated. As such, the Acting Secretary of Homeland Security rescinded the June 15, 2012 memorandum establishing the DACA program. Please see the Attorney General’s letter and the Acting Secretary of Homeland Security’s memorandum for further information on how this decision was reached.', 'We are open 7am-4pm Monday-Friday!']\n"
     ]
    }
   ],
   "source": [
    "questions =[]\n",
    "answers = []\n",
    "\n",
    "for i in data['intents']:\n",
    "    questions.append(i['patterns'])\n",
    "    answers.append(i['responses'][0])\n",
    "    \n",
    "print(questions)\n",
    "print('')\n",
    "print('')\n",
    "print(answers)"
   ]
  },
  {
   "cell_type": "markdown",
   "metadata": {},
   "source": [
    "## Step 3\n",
    "Now that we have our data set in two simple lists we can run comparisons on a question type versus intents and return the answer that makes the most sence given BERTS understanding of our target question.\n",
    "\n",
    "First we will set up the BERT text similarity tracker - "
   ]
  },
  {
   "cell_type": "code",
   "execution_count": 3,
   "metadata": {},
   "outputs": [],
   "source": [
    "#use this command to install sentence transformers if you need them \n",
    "#!pip install sentence-transformers\n",
    "\n",
    "from sentence_transformers import SentenceTransformer\n",
    "from sklearn.metrics.pairwise import cosine_similarity\n",
    "\n",
    "model = SentenceTransformer('bert-base-nli-mean-tokens')\n"
   ]
  },
  {
   "cell_type": "markdown",
   "metadata": {},
   "source": [
    "## Step 4\n",
    "Now that we have that set up build a method that can take in the data and map comparisons "
   ]
  },
  {
   "cell_type": "code",
   "execution_count": 4,
   "metadata": {},
   "outputs": [],
   "source": [
    "def get_similaritys(text, comparison_list, index):\n",
    "    \n",
    "    sentences = [text] + comparison_list    \n",
    "    sentence_embeddings = model.encode(sentences)\n",
    "    sentence_embeddings.shape\n",
    "    \n",
    "    #Let's calculate cosine similarity for sentence 0:\n",
    "    result=cosine_similarity([sentence_embeddings[0]],sentence_embeddings[1:])\n",
    "    \n",
    "    Max = max(result[0])\n",
    "    \n",
    "    if(Max > 0.9):\n",
    "        return ['Bingo',index]  \n",
    "    return [Max, index]\n",
    "        "
   ]
  },
  {
   "cell_type": "code",
   "execution_count": 5,
   "metadata": {},
   "outputs": [
    {
     "name": "stdout",
     "output_type": "stream",
     "text": [
      "[0.89871323, 0]\n"
     ]
    }
   ],
   "source": [
    "# test the method \n",
    "targets =['this is a good dog.', 'the cat is free.', 'who could have predicted this?','time is older than us']\n",
    "text='i think dogs are cool'\n",
    "\n",
    "result = get_similaritys(text, targets, 0)\n",
    "\n",
    "print(result)"
   ]
  },
  {
   "cell_type": "code",
   "execution_count": 6,
   "metadata": {},
   "outputs": [],
   "source": [
    "questions1 = [['this is a good dog.', 'the dog is great'],['this cat is free','a free cat walks free'],['who predicted this?'],['time is old','time is older than us']]\n",
    "answers1 =['indeed a good dog','free cats for all','not me thats for sure ', 'yes and we all should feel time is the master']\n"
   ]
  },
  {
   "cell_type": "markdown",
   "metadata": {},
   "source": [
    "## Step 5\n",
    "Now that we have a comparison method we can build a central model input method that will respond to a question with a matching answer or if none seem likely from the question a simple sorry please repeat that I do not understand."
   ]
  },
  {
   "cell_type": "code",
   "execution_count": 7,
   "metadata": {},
   "outputs": [],
   "source": [
    "def qa_model_input(text, questions1, answers1):\n",
    "    index =-1\n",
    "    targets =[]\n",
    "    for x in questions1:\n",
    "        index +=1\n",
    "        result = get_similaritys(text, x, 0)\n",
    "        if(result[0]=='Bingo'):\n",
    "            return answers1[index]\n",
    "        else:\n",
    "            targets.append(result)\n",
    "    max_value = max(targets) \n",
    "    if(max_value[0] < 0.85):\n",
    "        return(\"sorry please repeat that I do not understand.\")\n",
    "    max_index = targets.index(max_value)\n",
    "    return answers1[index] "
   ]
  },
  {
   "cell_type": "code",
   "execution_count": 8,
   "metadata": {},
   "outputs": [
    {
     "name": "stdout",
     "output_type": "stream",
     "text": [
      "Hey Im a chat bot what can I help you with today : /exit\n",
      "good bye lets talk again soon!\n"
     ]
    }
   ],
   "source": [
    "# Test run\n",
    "run = True\n",
    "while run:\n",
    "    val = input(\"Hey Im a chat bot what can I help you with today : \")\n",
    "    if(val =='/exit' or val == 'no'):\n",
    "        print('good bye lets talk again soon!')\n",
    "        break\n",
    "    \n",
    "    result = qa_model_input(val, questions1, answers1)\n",
    "    print('Question : \\n')\n",
    "    print(val)\n",
    "    print('Answer : \\n')\n",
    "    print(result)\n",
    "    print('\\n')\n",
    "    print('Great question care to ask another ?')\n",
    "    print('\\n')\n",
    "    "
   ]
  },
  {
   "cell_type": "code",
   "execution_count": 9,
   "metadata": {},
   "outputs": [
    {
     "name": "stdout",
     "output_type": "stream",
     "text": [
      "Hello Im the Maxmimus help desk chat bot what can I help you with today : DACA?\n",
      "Question : \n",
      "\n",
      "DACA?\n",
      "Answer : \n",
      "\n",
      "Under existing regulations, an individual whose case has been deferred is eligible to receive employment authorization for the period of deferred action, provided he or she can demonstrate an economic necessity for employment. DHS\n",
      "\n",
      "\n",
      "Great question care to ask another ?\n",
      "\n",
      "\n",
      "Hello Im the Maxmimus help desk chat bot what can I help you with today : /exit\n",
      "good bye lets talk again soon!\n"
     ]
    }
   ],
   "source": [
    "## max wait time is 4 to 6 seconds currently\n",
    "run = True\n",
    "while run:\n",
    "    val = input(\"Hello Im the Maxmimus help desk chat bot what can I help you with today : \")\n",
    "    if(val =='/exit' or val == 'no'):\n",
    "        print('good bye lets talk again soon!')\n",
    "        break\n",
    "    \n",
    "    result = qa_model_input(val, questions, answers)\n",
    "    print('Question : \\n')\n",
    "    print(val)\n",
    "    print('Answer : \\n')\n",
    "    print(result)\n",
    "    print('\\n')\n",
    "    print('Great question care to ask another ?')\n",
    "    print('\\n')"
   ]
  },
  {
   "cell_type": "code",
   "execution_count": 10,
   "metadata": {},
   "outputs": [
    {
     "name": "stdout",
     "output_type": "stream",
     "text": [
      "parrot loaded ready to work\n"
     ]
    }
   ],
   "source": [
    "# result = qa_model_input(val, questions, answers)\n",
    "\n",
    "# set up parrot to do parra phrases \n",
    "# Import libraries\n",
    "from parrot import Parrot\n",
    "import torch\n",
    "import warnings\n",
    "warnings.filterwarnings(\"ignore\")\n",
    "print('parrot loaded ready to work')\n"
   ]
  },
  {
   "cell_type": "code",
   "execution_count": 11,
   "metadata": {},
   "outputs": [],
   "source": [
    "##Init models (make sure you init ONLY once if you integrate this to your code)\n",
    "parrot = Parrot(model_tag=\"prithivida/parrot_paraphraser_on_T5\", use_gpu=False)"
   ]
  },
  {
   "cell_type": "code",
   "execution_count": 12,
   "metadata": {},
   "outputs": [
    {
     "name": "stdout",
     "output_type": "stream",
     "text": [
      "['tell me the best papaya of all time?', 'tell me the best papaya?', 'list some of the best papayas?', 'list some of the best tasty papayas?', 'which are the best papayas?', 'tell me the most addictive papaya?', 'list some of the most delicious papayas?']\n"
     ]
    }
   ],
   "source": [
    "#build compresed method \n",
    "def get_para(phrase, num, length):\n",
    "    texts = []\n",
    "    para_phrases = parrot.augment(input_phrase=phrase, use_gpu=False, diversity_ranker='levenshtein', do_diverse=False,\n",
    "                                max_return_phrases=num, max_length=length, adequacy_threshold=0.9, fluency_threshold=0.9)\n",
    "    for para_phrase in para_phrases:\n",
    "        text = para_phrase[0]\n",
    "        texts.append(text)\n",
    "    \n",
    "    return texts\n",
    "        \n",
    "\n",
    "text = 'Whats the most delicious papayas?'\n",
    "texts = get_para(text, 10, len(text)+5)\n",
    "print(texts)"
   ]
  },
  {
   "cell_type": "code",
   "execution_count": 13,
   "metadata": {},
   "outputs": [
    {
     "name": "stdout",
     "output_type": "stream",
     "text": [
      "['Hi', 'Hi']\n",
      "[\"how's your day?\", 'how are you doing?', 'how are you?', 'How are you']\n",
      "['is anyone around?', 'who is there?', 'can you name anyone else?', 'is anyone out there?', 'is anyone in there?', 'is there anyone there?', 'Is anyone there?']\n",
      "['Hello', 'Hello']\n",
      "['good day', 'Good day']\n",
      "['what are your thoughts on it?', 'what do you want to know?', 'tell me the problem?', \"what's up i guess?\", \"what's going on?\", \"what's up?\", 'whats up?', 'what was up?', 'Whats up']\n",
      "[0, 0, 1, 0, 0, 0, 0, 1, 1, 0, 1, 0, 0, 0, 0, 0, 0, 1, 1, 1, 0, 1, 0, 0, 0, 0]\n",
      "['cya', 'cya']\n",
      "['see you later', \"we'll see you later\", \"let's see you later\", 'See you later']\n",
      "['goodbye', 'soooooooo goodbye', \"let's say goodbye\", 'Goodbye']\n",
      "[\"i'll leave\", \"i'm leaving\", 'I am Leaving']\n",
      "['happy day', 'have a good day', 'Have a Good day']\n",
      "[0, 0, 1, 0, 0, 0, 0, 1, 1, 0, 1, 0, 0, 0, 0, 0, 0, 1, 1, 1, 0, 1, 0, 0, 0, 0, 0, 0, 0, 0, 0, 0, 0, 0, 0, 0, 0, 0, 0, 0, 1, 1]\n",
      "['what is your identity?', 'what do you have?', 'what are you doing?', 'what is your answer?', 'what are you?', 'what are you']\n",
      "['what are you?', 'who are you?', 'who are you']\n",
      "[\"what is it you're gonna do?\", 'what are you doing?', 'what do you want to do?', \"what's your job?\", 'what do you do?', 'what do you do']\n",
      "['tell me the purpose?', \"what's your aim?\", \"what's your purpose?\", 'what is your purpose?', 'what is your purpose']\n",
      "[\"what's going on?\", \"what's the point?\", \"what's this?\", 'what is this?', 'what is this']\n",
      "[0, 0, 1, 0, 0, 0, 0, 1, 1, 0, 1, 0, 0, 0, 0, 0, 0, 1, 1, 1, 0, 1, 0, 0, 0, 0, 0, 0, 0, 0, 0, 0, 0, 0, 0, 0, 0, 0, 0, 0, 1, 1, 1, 0, 0, 0, 0, 0, 0, 0, 0, 0, 0, 0, 1, 0, 0, 0, 0, 0, 0, 0, 0, 0, 1, 0, 1]\n",
      "['what is uscis?', 'what is USCIS']\n",
      "['what do you think about the uscis?', 'what about uscis?', 'what does the uscis do?', 'what do the uscis do?', 'what does uscis do?', 'uscis does what?', 'USCIS dose what?']\n",
      "['what do uscis do?', 'what does uscis do?', 'what does the uscis do?', 'whats USCIS do?']\n",
      "[0, 0, 1, 0, 0, 0, 0, 1, 1, 0, 1, 0, 0, 0, 0, 0, 0, 1, 1, 1, 0, 1, 0, 0, 0, 0, 0, 0, 0, 0, 0, 0, 0, 0, 0, 0, 0, 0, 0, 0, 1, 1, 1, 0, 0, 0, 0, 0, 0, 0, 0, 0, 0, 0, 1, 0, 0, 0, 0, 0, 0, 0, 0, 0, 1, 0, 1, 0, 0, 0, 0, 0, 0, 0, 0, 0, 0, 0, 0, 0]\n",
      "['how does the daca act work?', 'what is daca? what is its purpose?', 'What is purpose of DACA?']\n",
      "['what is deferred action? what are its meanings?', 'tell me the meaning of deferred action?', 'what is delayed action?', 'tell me the term deferred action?', 'what is deferred action?', 'What is deferred action?']\n",
      "['tell me the definition of daca?', \"what's daca?\", 'what exactly is daca?', 'what is daca?', 'What is DACA?']\n",
      "[0, 0, 1, 0, 0, 0, 0, 1, 1, 0, 1, 0, 0, 0, 0, 0, 0, 1, 1, 1, 0, 1, 0, 0, 0, 0, 0, 0, 0, 0, 0, 0, 0, 0, 0, 0, 0, 0, 0, 0, 1, 1, 1, 0, 0, 0, 0, 0, 0, 0, 0, 0, 0, 0, 1, 0, 0, 0, 0, 0, 0, 0, 0, 0, 1, 0, 1, 0, 0, 0, 0, 0, 0, 0, 0, 0, 0, 0, 0, 0, 1, 0, 0, 0, 0, 1, 0, 0, 0, 1, 0, 0, 0, 0]\n",
      "['what will be the impact of daca if the government scraps it?', 'why was daca abolished?', 'why is daca going down?', 'why is daca gone?', 'Why is DACA ending?']\n",
      "['why is the daca program scrapping?', 'why does daca become obsolete?', 'why is daca being phased out?', 'why is daca closing?', 'why is daca phasing out?', 'Why is DACA phasing out']\n",
      "['how do i get information about daca?', 'how can i find out about daca?', 'how can i get information on daca?', 'how do i get more information on daca?', 'how can i get more information about daca?', 'how can i get more information on daca?', 'how do i get more daca info?', 'how do i obtain daca information?', 'how do i get daca information?', 'How can I get more DACA information?']\n",
      "['here is a list of most frequently asked questions about daca', 'Frequently asked DACA questions']\n",
      "[0, 0, 1, 0, 0, 0, 0, 1, 1, 0, 1, 0, 0, 0, 0, 0, 0, 1, 1, 1, 0, 1, 0, 0, 0, 0, 0, 0, 0, 0, 0, 0, 0, 0, 0, 0, 0, 0, 0, 0, 1, 1, 1, 0, 0, 0, 0, 0, 0, 0, 0, 0, 0, 0, 1, 0, 0, 0, 0, 0, 0, 0, 0, 0, 1, 0, 1, 0, 0, 0, 0, 0, 0, 0, 0, 0, 0, 0, 0, 0, 1, 0, 0, 0, 0, 1, 0, 0, 0, 1, 0, 0, 0, 0, 1, 1, 1, 0, 0, 1, 1, 0, 1, 0, 0, 1, 1, 1, 0, 0, 0, 0, 1, 1, 0, 1, 0]\n",
      "[\"when you're ready?\", \"when you're open\", 'when are you open?', 'when are you open']\n",
      "['what hours are you working?', \"what's your hours?\", 'what are your hours?', 'what are your hours']\n",
      "['hours of operation', 'hours of operation']\n",
      "['show me your availability?', 'what is your availability?', 'what is your availability']\n",
      "[0, 0, 1, 0, 0, 0, 0, 1, 1, 0, 1, 0, 0, 0, 0, 0, 0, 1, 1, 1, 0, 1, 0, 0, 0, 0, 0, 0, 0, 0, 0, 0, 0, 0, 0, 0, 0, 0, 0, 0, 1, 1, 1, 0, 0, 0, 0, 0, 0, 0, 0, 0, 0, 0, 1, 0, 0, 0, 0, 0, 0, 0, 0, 0, 1, 0, 1, 0, 0, 0, 0, 0, 0, 0, 0, 0, 0, 0, 0, 0, 1, 0, 0, 0, 0, 1, 0, 0, 0, 1, 0, 0, 0, 0, 1, 1, 1, 0, 0, 1, 1, 0, 1, 0, 0, 1, 1, 1, 0, 0, 0, 0, 1, 1, 0, 1, 0, 0, 1, 0, 0, 0, 0, 0, 0, 0, 0, 0, 0, 0]\n",
      "\n",
      "these are the final results\n",
      "[0, 0, 1, 0, 0, 0, 0, 1, 1, 0, 1, 0, 0, 0, 0, 0, 0, 1, 1, 1, 0, 1, 0, 0, 0, 0, 0, 0, 0, 0, 0, 0, 0, 0, 0, 0, 0, 0, 0, 0, 1, 1, 1, 0, 0, 0, 0, 0, 0, 0, 0, 0, 0, 0, 1, 0, 0, 0, 0, 0, 0, 0, 0, 0, 1, 0, 1, 0, 0, 0, 0, 0, 0, 0, 0, 0, 0, 0, 0, 0, 1, 0, 0, 0, 0, 1, 0, 0, 0, 1, 0, 0, 0, 0, 1, 1, 1, 0, 0, 1, 1, 0, 1, 0, 0, 1, 1, 1, 0, 0, 0, 0, 1, 1, 0, 1, 0, 0, 1, 0, 0, 0, 0, 0, 0, 0, 0, 0, 0, 0]\n"
     ]
    }
   ],
   "source": [
    "# now run all intents and make 0 succsess 1 fail\n",
    "results = []\n",
    "\n",
    "index =0\n",
    "for x in questions:\n",
    "    answer = answers[index]\n",
    "    for i in x:\n",
    "        texts = get_para(i, 10, len(text)+5)\n",
    "        texts.append(i)\n",
    "        print(texts)\n",
    "        for text in texts:\n",
    "            res = qa_model_input(text, questions, answers)\n",
    "            #print('AI :', res)\n",
    "            #print('answer :', answer)\n",
    "            if(answer == res):\n",
    "                results.append(0)\n",
    "            else:\n",
    "                results.append(1)\n",
    "    index +=1\n",
    "    print(results)\n",
    "\n",
    "print('')\n",
    "print('these are the final results')\n",
    "print(results)"
   ]
  },
  {
   "cell_type": "markdown",
   "metadata": {},
   "source": [
    "## Save the data to CSV\n",
    "\n",
    "now we take the results and save them to a csv format \n"
   ]
  },
  {
   "cell_type": "code",
   "execution_count": 14,
   "metadata": {},
   "outputs": [
    {
     "name": "stdout",
     "output_type": "stream",
     "text": [
      "done all data writen to csv\n"
     ]
    }
   ],
   "source": [
    "import csv\n",
    "\n",
    "header = ['index', 'pred', 'expected']\n",
    "data = []\n",
    "\n",
    "index = 0\n",
    "for x in results:\n",
    "    item = [index,x,0]\n",
    "    data.append(item)\n",
    "    index +=1\n",
    "    \n",
    "    \n",
    "\n",
    "with open('csv data/BERT_data.csv', 'w', encoding='UTF8', newline='') as f:\n",
    "    writer = csv.writer(f)\n",
    "\n",
    "    # write the header\n",
    "    writer.writerow(header)\n",
    "\n",
    "    # write multiple rows\n",
    "    writer.writerows(data)\n",
    "\n",
    "print('done all data writen to csv')"
   ]
  },
  {
   "cell_type": "code",
   "execution_count": null,
   "metadata": {},
   "outputs": [],
   "source": []
  }
 ],
 "metadata": {
  "kernelspec": {
   "display_name": "Python 3",
   "language": "python",
   "name": "python3"
  },
  "language_info": {
   "codemirror_mode": {
    "name": "ipython",
    "version": 3
   },
   "file_extension": ".py",
   "mimetype": "text/x-python",
   "name": "python",
   "nbconvert_exporter": "python",
   "pygments_lexer": "ipython3",
   "version": "3.7.6"
  }
 },
 "nbformat": 4,
 "nbformat_minor": 4
}
